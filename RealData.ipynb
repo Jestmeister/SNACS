{
  "nbformat": 4,
  "nbformat_minor": 0,
  "metadata": {
    "colab": {
      "provenance": []
    },
    "kernelspec": {
      "name": "python3",
      "display_name": "Python 3"
    },
    "language_info": {
      "name": "python"
    }
  },
  "cells": [
    {
      "cell_type": "markdown",
      "source": [
        "**DATASET2**\n",
        "\n",
        "fluid_vs_infomap =0.7\n",
        "\n",
        "\n",
        "leiden_vs_infomap =0.0\n",
        "\n",
        "**DATASET 3**\n",
        "\n",
        "\n",
        "fluid_vs_infomap =0.55\n",
        "\n",
        "leiden_vs_infomap =0.0\n",
        "\n",
        "**DATASET 4**\n",
        "\n",
        "fluid_vs_infomap =0.0\n",
        "\n",
        "leiden_vs_infomap =0.0"
      ],
      "metadata": {
        "id": "o_-ZJweH44u4"
      }
    },
    {
      "cell_type": "code",
      "source": [
        "pip install leidenalg"
      ],
      "metadata": {
        "colab": {
          "base_uri": "https://localhost:8080/"
        },
        "id": "IjjuH7uKyMBZ",
        "outputId": "0c5e92d9-1ccd-4d92-b1c4-9cc1c58476d2"
      },
      "execution_count": null,
      "outputs": [
        {
          "output_type": "stream",
          "name": "stdout",
          "text": [
            "Looking in indexes: https://pypi.org/simple, https://us-python.pkg.dev/colab-wheels/public/simple/\n",
            "Collecting leidenalg\n",
            "  Downloading leidenalg-0.9.0-cp38-cp38-manylinux_2_17_x86_64.manylinux2014_x86_64.whl (1.3 MB)\n",
            "\u001b[K     |████████████████████████████████| 1.3 MB 5.1 MB/s \n",
            "\u001b[?25hCollecting igraph<0.11,>=0.10.0\n",
            "  Downloading igraph-0.10.2-cp38-cp38-manylinux_2_17_x86_64.manylinux2014_x86_64.whl (3.3 MB)\n",
            "\u001b[K     |████████████████████████████████| 3.3 MB 23.8 MB/s \n",
            "\u001b[?25hCollecting texttable>=1.6.2\n",
            "  Downloading texttable-1.6.7-py2.py3-none-any.whl (10 kB)\n",
            "Installing collected packages: texttable, igraph, leidenalg\n",
            "Successfully installed igraph-0.10.2 leidenalg-0.9.0 texttable-1.6.7\n"
          ]
        }
      ]
    },
    {
      "cell_type": "code",
      "source": [
        "pip install python-louvain"
      ],
      "metadata": {
        "colab": {
          "base_uri": "https://localhost:8080/"
        },
        "id": "rFTRXL1gqA7v",
        "outputId": "31f66042-9d6c-44df-b8d1-64db76792e4b"
      },
      "execution_count": null,
      "outputs": [
        {
          "output_type": "stream",
          "name": "stdout",
          "text": [
            "Looking in indexes: https://pypi.org/simple, https://us-python.pkg.dev/colab-wheels/public/simple/\n",
            "Requirement already satisfied: python-louvain in /usr/local/lib/python3.8/dist-packages (0.16)\n",
            "Requirement already satisfied: networkx in /usr/local/lib/python3.8/dist-packages (from python-louvain) (2.8.8)\n",
            "Requirement already satisfied: numpy in /usr/local/lib/python3.8/dist-packages (from python-louvain) (1.21.6)\n"
          ]
        }
      ]
    },
    {
      "cell_type": "code",
      "source": [
        "pip install infomap"
      ],
      "metadata": {
        "colab": {
          "base_uri": "https://localhost:8080/"
        },
        "id": "-Xu0twEvjBGb",
        "outputId": "5cfa8d6f-84cb-4ac4-c82b-4d038f107358"
      },
      "execution_count": null,
      "outputs": [
        {
          "output_type": "stream",
          "name": "stdout",
          "text": [
            "Looking in indexes: https://pypi.org/simple, https://us-python.pkg.dev/colab-wheels/public/simple/\n",
            "Collecting infomap\n",
            "  Downloading infomap-2.6.1.tar.gz (262 kB)\n",
            "\u001b[K     |████████████████████████████████| 262 kB 5.0 MB/s \n",
            "\u001b[?25hBuilding wheels for collected packages: infomap\n",
            "  Building wheel for infomap (setup.py) ... \u001b[?25l\u001b[?25hdone\n",
            "  Created wheel for infomap: filename=infomap-2.6.1-cp38-cp38-linux_x86_64.whl size=5635253 sha256=be00c9c5e20ab91a8da2e8310d640afbc6ee92fc595769e9e405b2e165f42013\n",
            "  Stored in directory: /root/.cache/pip/wheels/18/df/51/25cf260bb989de3e0819c7ddd672b989274c730c550dbf545b\n",
            "Successfully built infomap\n",
            "Installing collected packages: infomap\n",
            "Successfully installed infomap-2.6.1\n"
          ]
        }
      ]
    },
    {
      "cell_type": "code",
      "source": [
        "pip install igraph"
      ],
      "metadata": {
        "colab": {
          "base_uri": "https://localhost:8080/"
        },
        "id": "-pZxxdeUjFOO",
        "outputId": "5eb299f8-0174-4bad-e665-9f2f7dbcd62a"
      },
      "execution_count": null,
      "outputs": [
        {
          "output_type": "stream",
          "name": "stdout",
          "text": [
            "Looking in indexes: https://pypi.org/simple, https://us-python.pkg.dev/colab-wheels/public/simple/\n",
            "Requirement already satisfied: igraph in /usr/local/lib/python3.8/dist-packages (0.10.2)\n",
            "Requirement already satisfied: texttable>=1.6.2 in /usr/local/lib/python3.8/dist-packages (from igraph) (1.6.7)\n"
          ]
        }
      ]
    },
    {
      "cell_type": "code",
      "source": [
        "pip install community"
      ],
      "metadata": {
        "colab": {
          "base_uri": "https://localhost:8080/"
        },
        "id": "nAdn7FrGU_v9",
        "outputId": "3a8ca2bf-0a6b-483a-eb1f-e86efa1083ce"
      },
      "execution_count": null,
      "outputs": [
        {
          "output_type": "stream",
          "name": "stdout",
          "text": [
            "Looking in indexes: https://pypi.org/simple, https://us-python.pkg.dev/colab-wheels/public/simple/\n",
            "Requirement already satisfied: community in /usr/local/lib/python3.8/dist-packages (1.0.0b1)\n",
            "Requirement already satisfied: requests in /usr/local/lib/python3.8/dist-packages (from community) (2.23.0)\n",
            "Requirement already satisfied: Flask in /usr/local/lib/python3.8/dist-packages (from community) (1.1.4)\n",
            "Requirement already satisfied: Jinja2<3.0,>=2.10.1 in /usr/local/lib/python3.8/dist-packages (from Flask->community) (2.11.3)\n",
            "Requirement already satisfied: itsdangerous<2.0,>=0.24 in /usr/local/lib/python3.8/dist-packages (from Flask->community) (1.1.0)\n",
            "Requirement already satisfied: Werkzeug<2.0,>=0.15 in /usr/local/lib/python3.8/dist-packages (from Flask->community) (1.0.1)\n",
            "Requirement already satisfied: click<8.0,>=5.1 in /usr/local/lib/python3.8/dist-packages (from Flask->community) (7.1.2)\n",
            "Requirement already satisfied: MarkupSafe>=0.23 in /usr/local/lib/python3.8/dist-packages (from Jinja2<3.0,>=2.10.1->Flask->community) (2.0.1)\n",
            "Requirement already satisfied: chardet<4,>=3.0.2 in /usr/local/lib/python3.8/dist-packages (from requests->community) (3.0.4)\n",
            "Requirement already satisfied: idna<3,>=2.5 in /usr/local/lib/python3.8/dist-packages (from requests->community) (2.10)\n",
            "Requirement already satisfied: urllib3!=1.25.0,!=1.25.1,<1.26,>=1.21.1 in /usr/local/lib/python3.8/dist-packages (from requests->community) (1.24.3)\n",
            "Requirement already satisfied: certifi>=2017.4.17 in /usr/local/lib/python3.8/dist-packages (from requests->community) (2022.9.24)\n"
          ]
        }
      ]
    },
    {
      "cell_type": "code",
      "execution_count": null,
      "metadata": {
        "id": "skzl2A9Kx6e0"
      },
      "outputs": [],
      "source": [
        "# This code is an extention of the cada code available at\n",
        "# https://github.com/thomashelling/cada\n",
        "#\n",
        "# coding=utf-8\n",
        "\n",
        "import networkx as nx\n",
        "from networkx.algorithms.community import asyn_fluidc\n",
        "from networkx.algorithms.community import greedy_modularity_communities as gmc\n",
        "import random\n",
        "import numpy as np\n",
        "import community\n",
        "import time\n",
        "import infomap\n",
        "import igraph as ig\n",
        "import leidenalg\n",
        "\n",
        "class cada():\n",
        "\tdef __init__(self, graph, algorithm='louvain', resolution=0.1):\n",
        "\t\t\n",
        "\t\t# First do community detection\n",
        "\t\tif algorithm == 'louvain':\n",
        "\t\t\tpartition = community.best_partition(graph, resolution=resolution)\n",
        "\t\telif algorithm == 'leiden':\n",
        "\t\t\tpartition = self.run_leiden(graph,resolution=resolution)\n",
        "\t\telif algorithm == 'fluid':\n",
        "\t\t\tpartition = self.run_fluid(graph)\n",
        "\t\telif algorithm == 'greedy':\n",
        "\t\t\tpartition = self.run_greedy(graph,resolution)\n",
        "\t\telse:\n",
        "\t\t\tpartition = self.run_infomap(graph)\n",
        "\t\t\n",
        "\t\tcommunities = set()\n",
        "\t\tfor node in graph.nodes():\n",
        "\t\t\tif node in partition:\n",
        "\t\t\t\tcommunities.add(partition[node])\n",
        "\n",
        "\t\tanom_score = {}\n",
        "\n",
        "\t\t# Compute anomaly score for each node\n",
        "\t\tfor node in graph.nodes():\n",
        "\t\t\tcomms = {}\n",
        "\t\t\tfor neighbor in graph.neighbors(node):\n",
        "\t\t\t\tif neighbor != node:\n",
        "\t\t\t\t\tif partition[neighbor] not in comms:\n",
        "\t\t\t\t\t\tcomms[partition[neighbor]] = 0\n",
        "\n",
        "\t\t\t\t\tcomms[partition[neighbor]] += 1\n",
        "\n",
        "\t\t\tif len(comms) > 0:\n",
        "\t\t\t\t# The number of communities it is connected to. \n",
        "\t\t\t\tcomms = np.array(list(comms.values()))\n",
        "\t\t\t\t# print('nr communities connected', comms)\n",
        "\t\t\t\tmax_com = np.max(comms)\n",
        "\t\t\t\t# print('Maxcommunity', max_com)\n",
        "\t\t\t\tcomms = comms / max_com\n",
        "\t\t\t\t# print('Communities normalized', comms)\n",
        "\t\t\t\tanom_score[node] = np.sum(comms)\t\t\n",
        "\t\t\t\t# print('Anomaly score., ', anom_score[node])\n",
        "\n",
        "\t\tself.anomaly_scores = sorted(anom_score.items(), key=lambda x: x[1])[::-1]\n",
        "\t\tself.n_nodes = graph.number_of_nodes()\n",
        "\n",
        "\tdef clf(self,n_injections):\n",
        "\t\t\"\"\"\n",
        "\t\tPredicts n_injections anomaly nodes \n",
        "\t\t\"\"\"\n",
        "\t\tpred = np.zeros(self.n_nodes,dtype=int)\n",
        "\t\t#worst_nodes = self.anomaly_scores[:n_injections][0]\n",
        "\t\tfor ind,anomaly in enumerate(self.anomaly_scores):\n",
        "\t\t\tif(ind>=n_injections):\n",
        "\t\t\t\tbreak\n",
        "\t\t\tpred[anomaly[0]] = 1\n",
        "\t\t\t\n",
        "\t\treturn pred\n",
        "\n",
        "\tdef run_leiden(self,graph,resolution):\n",
        "\t\t\"\"\"\n",
        "\t\tCreates partitions with the Leiden algorithm\n",
        "\t\t\"\"\"\n",
        "\t\th = ig.Graph.from_networkx(graph)\n",
        "\t\t#part = leidenalg.find_partition(h, leidenalg.ModularityVertexPartition)\n",
        "\t\t#part = leidenalg.find_partition(h, leidenalg.RBConfigurationVertexPartition,resolution_parameter = 0.5)\n",
        "\t\tpart = leidenalg.find_partition(h, leidenalg.CPMVertexPartition,resolution_parameter = resolution)\n",
        "\t\tpartition = {}\n",
        "\n",
        "\t\tfor ind,com in enumerate(part):\n",
        "\t\t\tfor node in com:\n",
        "\t\t\t\tpartition[node] = ind\n",
        "\n",
        "\t\treturn partition\n",
        "\n",
        "\tdef run_greedy(self,graph,resolution):\n",
        "\t\t\"\"\"\n",
        "\t\tCreates partitions with Clauset-Newman-Moore greedy modularity maximization\n",
        "\t\t\"\"\"\n",
        "\t\tbest_n = int(graph.number_of_nodes()/10)\n",
        "\t\tcommunities = gmc(graph,resolution=resolution,best_n=best_n)\n",
        "\t\tpartition = {}\n",
        "\t\tprint(f\"nr of coms={len(communities)}\")\n",
        "\t\tfor ind,com in enumerate(communities):\n",
        "\t\t\tfor node in com:\n",
        "\t\t\t\tpartition[node] = ind\n",
        "\t\t\n",
        "\t\treturn partition\n",
        "\n",
        "\tdef run_fluid(self,graph):\n",
        "\t\t\"\"\"\n",
        "\t\tCreates partitions with async_fluidc\n",
        "\t\t\"\"\"\n",
        "\t\tk = int(graph.number_of_nodes()/100)\n",
        "\t\tit = asyn_fluidc(graph,k=k)\n",
        "\t\tpartition = {}\n",
        "\n",
        "\t\tfor ind,com in enumerate(it):\n",
        "\t\t\tfor node in com:\n",
        "\t\t\t\tpartition[node] = ind\n",
        "\n",
        "\t\treturn partition\n",
        "\n",
        "\tdef run_infomap(self, graph):\n",
        "\t\t\"\"\"\n",
        "\t\tRuns Infomap with infomap package \n",
        "\t\t\"\"\"\n",
        "\t\tinfomapSimple = infomap.Infomap(\"--two-level --silent\")\n",
        "\t\tnetwork = infomapSimple.network\n",
        "\t\t\n",
        "\t\tfor e in graph.edges():\n",
        "\t\t\tnetwork.addLink(e[0], e[1])\n",
        "\n",
        "\t\tpartition = {}\n",
        "\t\tinfomapSimple.run()\n",
        "\t\tfor node in infomapSimple.iterTree():\n",
        "\t\t\tif node.isLeaf():\n",
        "\t\t\t\tpartition[node.physicalId] = node.moduleIndex()\n",
        "\n",
        "\t\treturn partition\n",
        "\n",
        "\tdef get_anomaly_scores(self, nr_anomalies=None):\n",
        "\t\t\"\"\"\n",
        "\t\tReturns tuple (node, anomaly_score) for either nr_anomalies or all\n",
        "\t\t\"\"\"\n",
        "\t\tif nr_anomalies:\n",
        "\t\t\treturn self.anomaly_scores[:nr_anomalies]\n",
        "\t\telse:\n",
        "\t\t\treturn self.anomaly_scores \n",
        "\n",
        "\tdef get_top_anomalies(self, nr_anomalies=100):\n",
        "\t\t\"\"\"\n",
        "\t\tReturns highest scoring anomalies\n",
        "\t\t\"\"\"\t\t\t\t\t\n",
        "\t\tanomalies = []\n",
        "\t\tfor anomaly in self.anomaly_scores[:nr_anomalies]:\n",
        "\t\t\tanomalies.append(anomaly[0])\n",
        "\n",
        "\t\treturn anomalies\n",
        "\n",
        "\tdef get_anomalies_threshold(self, threshold):\n",
        "\t\t\"\"\"\n",
        "\t\tReturns anomalies that are above a certain threshold.\n",
        "\t\t\"\"\"\n",
        "\t\tanomalies = []\n",
        "\n",
        "\t\tfor anomaly in self.anomaly_scores:\n",
        "\t\t\tif anomaly[1] > threshold:\n",
        "\t\t\t\tanomalies.append(anomaly[0])\n",
        "\t\t\telse:\n",
        "\t\t\t\tbreak\n",
        "\n",
        "\t\treturn anomalies"
      ]
    },
    {
      "cell_type": "code",
      "source": [
        "import networkx as nx\n",
        "import numpy as np\n",
        "import matplotlib.pyplot as plt\n",
        "from sklearn.metrics import f1_score\n",
        "from time import process_time as pt\n",
        "import pandas as pd"
      ],
      "metadata": {
        "id": "wKHCjrKt3fV8"
      },
      "execution_count": null,
      "outputs": []
    },
    {
      "cell_type": "code",
      "source": [],
      "metadata": {
        "id": "Dyj1WYhk3li7"
      },
      "execution_count": null,
      "outputs": []
    },
    {
      "cell_type": "markdown",
      "source": [
        "**DATASET 1**"
      ],
      "metadata": {
        "id": "QXcQo9Fk2wMX"
      }
    },
    {
      "cell_type": "code",
      "source": [
        "amazons.dropna(inplace=True)\n",
        "amazons.drop([3],axis=0,inplace=True)\n",
        "amazons.reset_index(inplace=True,drop=True)"
      ],
      "metadata": {
        "id": "75olpOGcCHje"
      },
      "execution_count": null,
      "outputs": []
    },
    {
      "cell_type": "code",
      "source": [
        "amazons"
      ],
      "metadata": {
        "colab": {
          "base_uri": "https://localhost:8080/",
          "height": 424
        },
        "id": "ok9WXdTeCZEu",
        "outputId": "5d6c54fe-bca0-4a57-f1a8-544220d28665"
      },
      "execution_count": null,
      "outputs": [
        {
          "output_type": "execute_result",
          "data": {
            "text/plain": [
              "         Source Destination\n",
              "0             0           1\n",
              "1             0           2\n",
              "2             0           3\n",
              "3             0           4\n",
              "4             0           5\n",
              "...         ...         ...\n",
              "3387383  403392      121379\n",
              "3387384  403392      190663\n",
              "3387385  403393      318438\n",
              "3387386  403393      326962\n",
              "3387387  403393      403383\n",
              "\n",
              "[3387388 rows x 2 columns]"
            ],
            "text/html": [
              "\n",
              "  <div id=\"df-b3111bf3-2d32-4278-ab02-5933c7a948be\">\n",
              "    <div class=\"colab-df-container\">\n",
              "      <div>\n",
              "<style scoped>\n",
              "    .dataframe tbody tr th:only-of-type {\n",
              "        vertical-align: middle;\n",
              "    }\n",
              "\n",
              "    .dataframe tbody tr th {\n",
              "        vertical-align: top;\n",
              "    }\n",
              "\n",
              "    .dataframe thead th {\n",
              "        text-align: right;\n",
              "    }\n",
              "</style>\n",
              "<table border=\"1\" class=\"dataframe\">\n",
              "  <thead>\n",
              "    <tr style=\"text-align: right;\">\n",
              "      <th></th>\n",
              "      <th>Source</th>\n",
              "      <th>Destination</th>\n",
              "    </tr>\n",
              "  </thead>\n",
              "  <tbody>\n",
              "    <tr>\n",
              "      <th>0</th>\n",
              "      <td>0</td>\n",
              "      <td>1</td>\n",
              "    </tr>\n",
              "    <tr>\n",
              "      <th>1</th>\n",
              "      <td>0</td>\n",
              "      <td>2</td>\n",
              "    </tr>\n",
              "    <tr>\n",
              "      <th>2</th>\n",
              "      <td>0</td>\n",
              "      <td>3</td>\n",
              "    </tr>\n",
              "    <tr>\n",
              "      <th>3</th>\n",
              "      <td>0</td>\n",
              "      <td>4</td>\n",
              "    </tr>\n",
              "    <tr>\n",
              "      <th>4</th>\n",
              "      <td>0</td>\n",
              "      <td>5</td>\n",
              "    </tr>\n",
              "    <tr>\n",
              "      <th>...</th>\n",
              "      <td>...</td>\n",
              "      <td>...</td>\n",
              "    </tr>\n",
              "    <tr>\n",
              "      <th>3387383</th>\n",
              "      <td>403392</td>\n",
              "      <td>121379</td>\n",
              "    </tr>\n",
              "    <tr>\n",
              "      <th>3387384</th>\n",
              "      <td>403392</td>\n",
              "      <td>190663</td>\n",
              "    </tr>\n",
              "    <tr>\n",
              "      <th>3387385</th>\n",
              "      <td>403393</td>\n",
              "      <td>318438</td>\n",
              "    </tr>\n",
              "    <tr>\n",
              "      <th>3387386</th>\n",
              "      <td>403393</td>\n",
              "      <td>326962</td>\n",
              "    </tr>\n",
              "    <tr>\n",
              "      <th>3387387</th>\n",
              "      <td>403393</td>\n",
              "      <td>403383</td>\n",
              "    </tr>\n",
              "  </tbody>\n",
              "</table>\n",
              "<p>3387388 rows × 2 columns</p>\n",
              "</div>\n",
              "      <button class=\"colab-df-convert\" onclick=\"convertToInteractive('df-b3111bf3-2d32-4278-ab02-5933c7a948be')\"\n",
              "              title=\"Convert this dataframe to an interactive table.\"\n",
              "              style=\"display:none;\">\n",
              "        \n",
              "  <svg xmlns=\"http://www.w3.org/2000/svg\" height=\"24px\"viewBox=\"0 0 24 24\"\n",
              "       width=\"24px\">\n",
              "    <path d=\"M0 0h24v24H0V0z\" fill=\"none\"/>\n",
              "    <path d=\"M18.56 5.44l.94 2.06.94-2.06 2.06-.94-2.06-.94-.94-2.06-.94 2.06-2.06.94zm-11 1L8.5 8.5l.94-2.06 2.06-.94-2.06-.94L8.5 2.5l-.94 2.06-2.06.94zm10 10l.94 2.06.94-2.06 2.06-.94-2.06-.94-.94-2.06-.94 2.06-2.06.94z\"/><path d=\"M17.41 7.96l-1.37-1.37c-.4-.4-.92-.59-1.43-.59-.52 0-1.04.2-1.43.59L10.3 9.45l-7.72 7.72c-.78.78-.78 2.05 0 2.83L4 21.41c.39.39.9.59 1.41.59.51 0 1.02-.2 1.41-.59l7.78-7.78 2.81-2.81c.8-.78.8-2.07 0-2.86zM5.41 20L4 18.59l7.72-7.72 1.47 1.35L5.41 20z\"/>\n",
              "  </svg>\n",
              "      </button>\n",
              "      \n",
              "  <style>\n",
              "    .colab-df-container {\n",
              "      display:flex;\n",
              "      flex-wrap:wrap;\n",
              "      gap: 12px;\n",
              "    }\n",
              "\n",
              "    .colab-df-convert {\n",
              "      background-color: #E8F0FE;\n",
              "      border: none;\n",
              "      border-radius: 50%;\n",
              "      cursor: pointer;\n",
              "      display: none;\n",
              "      fill: #1967D2;\n",
              "      height: 32px;\n",
              "      padding: 0 0 0 0;\n",
              "      width: 32px;\n",
              "    }\n",
              "\n",
              "    .colab-df-convert:hover {\n",
              "      background-color: #E2EBFA;\n",
              "      box-shadow: 0px 1px 2px rgba(60, 64, 67, 0.3), 0px 1px 3px 1px rgba(60, 64, 67, 0.15);\n",
              "      fill: #174EA6;\n",
              "    }\n",
              "\n",
              "    [theme=dark] .colab-df-convert {\n",
              "      background-color: #3B4455;\n",
              "      fill: #D2E3FC;\n",
              "    }\n",
              "\n",
              "    [theme=dark] .colab-df-convert:hover {\n",
              "      background-color: #434B5C;\n",
              "      box-shadow: 0px 1px 3px 1px rgba(0, 0, 0, 0.15);\n",
              "      filter: drop-shadow(0px 1px 2px rgba(0, 0, 0, 0.3));\n",
              "      fill: #FFFFFF;\n",
              "    }\n",
              "  </style>\n",
              "\n",
              "      <script>\n",
              "        const buttonEl =\n",
              "          document.querySelector('#df-b3111bf3-2d32-4278-ab02-5933c7a948be button.colab-df-convert');\n",
              "        buttonEl.style.display =\n",
              "          google.colab.kernel.accessAllowed ? 'block' : 'none';\n",
              "\n",
              "        async function convertToInteractive(key) {\n",
              "          const element = document.querySelector('#df-b3111bf3-2d32-4278-ab02-5933c7a948be');\n",
              "          const dataTable =\n",
              "            await google.colab.kernel.invokeFunction('convertToInteractive',\n",
              "                                                     [key], {});\n",
              "          if (!dataTable) return;\n",
              "\n",
              "          const docLinkHtml = 'Like what you see? Visit the ' +\n",
              "            '<a target=\"_blank\" href=https://colab.research.google.com/notebooks/data_table.ipynb>data table notebook</a>'\n",
              "            + ' to learn more about interactive tables.';\n",
              "          element.innerHTML = '';\n",
              "          dataTable['output_type'] = 'display_data';\n",
              "          await google.colab.output.renderOutput(dataTable, element);\n",
              "          const docLink = document.createElement('div');\n",
              "          docLink.innerHTML = docLinkHtml;\n",
              "          element.appendChild(docLink);\n",
              "        }\n",
              "      </script>\n",
              "    </div>\n",
              "  </div>\n",
              "  "
            ]
          },
          "metadata": {},
          "execution_count": 15
        }
      ]
    },
    {
      "cell_type": "code",
      "source": [
        "amazons = amazons.astype({'Source':'int'})\n",
        "amazons = amazons.astype({'Destination':'int'})"
      ],
      "metadata": {
        "id": "s5UcnXn2z-j0"
      },
      "execution_count": null,
      "outputs": []
    },
    {
      "cell_type": "code",
      "source": [
        "amazons.iloc[0]"
      ],
      "metadata": {
        "colab": {
          "base_uri": "https://localhost:8080/"
        },
        "id": "-NyfeIC_1PrM",
        "outputId": "40657d46-47c2-4285-fd92-1aa9bb28b6df"
      },
      "execution_count": null,
      "outputs": [
        {
          "output_type": "execute_result",
          "data": {
            "text/plain": [
              "Source         0\n",
              "Destination    1\n",
              "Name: 0, dtype: int64"
            ]
          },
          "metadata": {},
          "execution_count": 17
        }
      ]
    },
    {
      "cell_type": "code",
      "source": [
        "amazons[amazons['Source'] == 403376]"
      ],
      "metadata": {
        "colab": {
          "base_uri": "https://localhost:8080/",
          "height": 332
        },
        "id": "dqdfyEuJfwAd",
        "outputId": "2cd01d94-2180-4484-cd71-207f12602e68"
      },
      "execution_count": null,
      "outputs": [
        {
          "output_type": "execute_result",
          "data": {
            "text/plain": [
              "         Source  Destination\n",
              "3387243  403376           45\n",
              "3387244  403376         1039\n",
              "3387245  403376         1041\n",
              "3387246  403376        22120\n",
              "3387247  403376       113347\n",
              "3387248  403376       121379\n",
              "3387249  403376       403270\n",
              "3387250  403376       403375\n",
              "3387251  403376       403391"
            ],
            "text/html": [
              "\n",
              "  <div id=\"df-d9952744-75a0-41eb-9d56-ffffb89078c8\">\n",
              "    <div class=\"colab-df-container\">\n",
              "      <div>\n",
              "<style scoped>\n",
              "    .dataframe tbody tr th:only-of-type {\n",
              "        vertical-align: middle;\n",
              "    }\n",
              "\n",
              "    .dataframe tbody tr th {\n",
              "        vertical-align: top;\n",
              "    }\n",
              "\n",
              "    .dataframe thead th {\n",
              "        text-align: right;\n",
              "    }\n",
              "</style>\n",
              "<table border=\"1\" class=\"dataframe\">\n",
              "  <thead>\n",
              "    <tr style=\"text-align: right;\">\n",
              "      <th></th>\n",
              "      <th>Source</th>\n",
              "      <th>Destination</th>\n",
              "    </tr>\n",
              "  </thead>\n",
              "  <tbody>\n",
              "    <tr>\n",
              "      <th>3387243</th>\n",
              "      <td>403376</td>\n",
              "      <td>45</td>\n",
              "    </tr>\n",
              "    <tr>\n",
              "      <th>3387244</th>\n",
              "      <td>403376</td>\n",
              "      <td>1039</td>\n",
              "    </tr>\n",
              "    <tr>\n",
              "      <th>3387245</th>\n",
              "      <td>403376</td>\n",
              "      <td>1041</td>\n",
              "    </tr>\n",
              "    <tr>\n",
              "      <th>3387246</th>\n",
              "      <td>403376</td>\n",
              "      <td>22120</td>\n",
              "    </tr>\n",
              "    <tr>\n",
              "      <th>3387247</th>\n",
              "      <td>403376</td>\n",
              "      <td>113347</td>\n",
              "    </tr>\n",
              "    <tr>\n",
              "      <th>3387248</th>\n",
              "      <td>403376</td>\n",
              "      <td>121379</td>\n",
              "    </tr>\n",
              "    <tr>\n",
              "      <th>3387249</th>\n",
              "      <td>403376</td>\n",
              "      <td>403270</td>\n",
              "    </tr>\n",
              "    <tr>\n",
              "      <th>3387250</th>\n",
              "      <td>403376</td>\n",
              "      <td>403375</td>\n",
              "    </tr>\n",
              "    <tr>\n",
              "      <th>3387251</th>\n",
              "      <td>403376</td>\n",
              "      <td>403391</td>\n",
              "    </tr>\n",
              "  </tbody>\n",
              "</table>\n",
              "</div>\n",
              "      <button class=\"colab-df-convert\" onclick=\"convertToInteractive('df-d9952744-75a0-41eb-9d56-ffffb89078c8')\"\n",
              "              title=\"Convert this dataframe to an interactive table.\"\n",
              "              style=\"display:none;\">\n",
              "        \n",
              "  <svg xmlns=\"http://www.w3.org/2000/svg\" height=\"24px\"viewBox=\"0 0 24 24\"\n",
              "       width=\"24px\">\n",
              "    <path d=\"M0 0h24v24H0V0z\" fill=\"none\"/>\n",
              "    <path d=\"M18.56 5.44l.94 2.06.94-2.06 2.06-.94-2.06-.94-.94-2.06-.94 2.06-2.06.94zm-11 1L8.5 8.5l.94-2.06 2.06-.94-2.06-.94L8.5 2.5l-.94 2.06-2.06.94zm10 10l.94 2.06.94-2.06 2.06-.94-2.06-.94-.94-2.06-.94 2.06-2.06.94z\"/><path d=\"M17.41 7.96l-1.37-1.37c-.4-.4-.92-.59-1.43-.59-.52 0-1.04.2-1.43.59L10.3 9.45l-7.72 7.72c-.78.78-.78 2.05 0 2.83L4 21.41c.39.39.9.59 1.41.59.51 0 1.02-.2 1.41-.59l7.78-7.78 2.81-2.81c.8-.78.8-2.07 0-2.86zM5.41 20L4 18.59l7.72-7.72 1.47 1.35L5.41 20z\"/>\n",
              "  </svg>\n",
              "      </button>\n",
              "      \n",
              "  <style>\n",
              "    .colab-df-container {\n",
              "      display:flex;\n",
              "      flex-wrap:wrap;\n",
              "      gap: 12px;\n",
              "    }\n",
              "\n",
              "    .colab-df-convert {\n",
              "      background-color: #E8F0FE;\n",
              "      border: none;\n",
              "      border-radius: 50%;\n",
              "      cursor: pointer;\n",
              "      display: none;\n",
              "      fill: #1967D2;\n",
              "      height: 32px;\n",
              "      padding: 0 0 0 0;\n",
              "      width: 32px;\n",
              "    }\n",
              "\n",
              "    .colab-df-convert:hover {\n",
              "      background-color: #E2EBFA;\n",
              "      box-shadow: 0px 1px 2px rgba(60, 64, 67, 0.3), 0px 1px 3px 1px rgba(60, 64, 67, 0.15);\n",
              "      fill: #174EA6;\n",
              "    }\n",
              "\n",
              "    [theme=dark] .colab-df-convert {\n",
              "      background-color: #3B4455;\n",
              "      fill: #D2E3FC;\n",
              "    }\n",
              "\n",
              "    [theme=dark] .colab-df-convert:hover {\n",
              "      background-color: #434B5C;\n",
              "      box-shadow: 0px 1px 3px 1px rgba(0, 0, 0, 0.15);\n",
              "      filter: drop-shadow(0px 1px 2px rgba(0, 0, 0, 0.3));\n",
              "      fill: #FFFFFF;\n",
              "    }\n",
              "  </style>\n",
              "\n",
              "      <script>\n",
              "        const buttonEl =\n",
              "          document.querySelector('#df-d9952744-75a0-41eb-9d56-ffffb89078c8 button.colab-df-convert');\n",
              "        buttonEl.style.display =\n",
              "          google.colab.kernel.accessAllowed ? 'block' : 'none';\n",
              "\n",
              "        async function convertToInteractive(key) {\n",
              "          const element = document.querySelector('#df-d9952744-75a0-41eb-9d56-ffffb89078c8');\n",
              "          const dataTable =\n",
              "            await google.colab.kernel.invokeFunction('convertToInteractive',\n",
              "                                                     [key], {});\n",
              "          if (!dataTable) return;\n",
              "\n",
              "          const docLinkHtml = 'Like what you see? Visit the ' +\n",
              "            '<a target=\"_blank\" href=https://colab.research.google.com/notebooks/data_table.ipynb>data table notebook</a>'\n",
              "            + ' to learn more about interactive tables.';\n",
              "          element.innerHTML = '';\n",
              "          dataTable['output_type'] = 'display_data';\n",
              "          await google.colab.output.renderOutput(dataTable, element);\n",
              "          const docLink = document.createElement('div');\n",
              "          docLink.innerHTML = docLinkHtml;\n",
              "          element.appendChild(docLink);\n",
              "        }\n",
              "      </script>\n",
              "    </div>\n",
              "  </div>\n",
              "  "
            ]
          },
          "metadata": {},
          "execution_count": 96
        }
      ]
    },
    {
      "cell_type": "code",
      "source": [
        "amazon = nx.from_pandas_edgelist(amazons, source='Source', target='Destination',create_using=nx.DiGraph)\n",
        "amazon = amazon.to_undirected()\n",
        "#amazon_in_degrees = sorted((d for n, d in amazon.in_degree()), reverse=True)\n",
        "#amazon_out_degrees = sorted((d for n, d in amazon.out_degree()), reverse=True)\n",
        "\n",
        "#largest_cc =nx.subgraph(amazon,max(nx.weakly_connected_components(amazon),key=len))\n",
        "temp = nx.from_pandas_edgelist(amazons, source='Source', target='Destination',create_using=nx.DiGraph)\n",
        "largest_cc =nx.subgraph(temp,max(nx.weakly_connected_components(temp),key=len))\n",
        "largest_cc = largest_cc.to_undirected()"
      ],
      "metadata": {
        "id": "cRuxWbMeCjLq"
      },
      "execution_count": null,
      "outputs": []
    },
    {
      "cell_type": "code",
      "source": [
        "#list(set(amazon.nodes) - set(largest_cc.nodes))"
      ],
      "metadata": {
        "colab": {
          "base_uri": "https://localhost:8080/"
        },
        "id": "8TanAnuYfZFB",
        "outputId": "08b0d083-33f0-4855-8e2c-13e5e80bbd9b"
      },
      "execution_count": null,
      "outputs": [
        {
          "output_type": "execute_result",
          "data": {
            "text/plain": [
              "[]"
            ]
          },
          "metadata": {},
          "execution_count": 98
        }
      ]
    },
    {
      "cell_type": "code",
      "source": [
        "#for i in list(set(amazon.nodes) - set(largest_cc.nodes)):\n",
        "  #amazon.remove_node(i)"
      ],
      "metadata": {
        "id": "1DCGig6DeRNg"
      },
      "execution_count": null,
      "outputs": []
    },
    {
      "cell_type": "code",
      "source": [
        "### LEIDEN\n",
        "cada_leiden = cada(amazon,algorithm='leiden')\n",
        "n_inj = int(100)\n",
        "pred_leiden = cada_leiden.clf(n_inj)"
      ],
      "metadata": {
        "id": "FXwNrWx31eGs"
      },
      "execution_count": null,
      "outputs": []
    },
    {
      "cell_type": "code",
      "source": [
        "### INFOMAP\n",
        "cada_infomap = cada(amazon,algorithm='infomap')\n",
        "n_inj = int(100)\n",
        "pred_infomap = cada_infomap.clf(n_inj)"
      ],
      "metadata": {
        "id": "PGuYV-vOTx4Z"
      },
      "execution_count": null,
      "outputs": []
    },
    {
      "cell_type": "code",
      "source": [
        "### Fluid Communities require connected Graphs.\n",
        "\n",
        "cada_fluid = cada(largest_cc,algorithm='fluid')\n",
        "pred_fluid= cada_fluid.clf(100)"
      ],
      "metadata": {
        "id": "Oo31ijFyPwnR"
      },
      "execution_count": null,
      "outputs": []
    },
    {
      "cell_type": "code",
      "source": [
        "pred_fluid.shape"
      ],
      "metadata": {
        "colab": {
          "base_uri": "https://localhost:8080/"
        },
        "id": "ykLVfHYqNIzd",
        "outputId": "8b29aba0-9034-44d7-e068-5e9c417ea251"
      },
      "execution_count": null,
      "outputs": [
        {
          "output_type": "execute_result",
          "data": {
            "text/plain": [
              "(403364,)"
            ]
          },
          "metadata": {},
          "execution_count": 38
        }
      ]
    },
    {
      "cell_type": "code",
      "source": [
        "print('fluid_vs_infomap =' + str(np.sum(pred_fluid * pred_infomap) / 100))"
      ],
      "metadata": {
        "colab": {
          "base_uri": "https://localhost:8080/"
        },
        "id": "yTyQ5OSScQ31",
        "outputId": "e33c4fac-b12a-407a-ad15-11afc8a335e3"
      },
      "execution_count": null,
      "outputs": [
        {
          "output_type": "stream",
          "name": "stdout",
          "text": [
            "fluid_vs_infomap =0.15\n"
          ]
        }
      ]
    },
    {
      "cell_type": "code",
      "source": [
        "print('leiden_vs_infomap =' + str(np.sum(pred_leiden * pred_infomap) / 100))"
      ],
      "metadata": {
        "colab": {
          "base_uri": "https://localhost:8080/"
        },
        "id": "EdyKgmkHhCFn",
        "outputId": "7b14ef54-2a28-42b8-8e6a-7cf105c60ad1"
      },
      "execution_count": null,
      "outputs": [
        {
          "output_type": "stream",
          "name": "stdout",
          "text": [
            "leiden_vs_infomap =0.15\n"
          ]
        }
      ]
    },
    {
      "cell_type": "code",
      "source": [
        "### module 'community' has no attribute 'best_partition'\n",
        "#cada_lo = cada(amazon,algorithm='louvain')\n",
        "#pred_lo = cada_lo.clf(n_inj)"
      ],
      "metadata": {
        "id": "Swfr5mc1Txuw"
      },
      "execution_count": null,
      "outputs": []
    },
    {
      "cell_type": "markdown",
      "source": [
        "**DATASET 2**"
      ],
      "metadata": {
        "id": "wQ-vuJ3A23gA"
      }
    },
    {
      "cell_type": "code",
      "source": [
        "emails"
      ],
      "metadata": {
        "colab": {
          "base_uri": "https://localhost:8080/",
          "height": 424
        },
        "id": "znfoYv7e3laR",
        "outputId": "8fc0d9c5-c0a4-4faa-bb79-524aadf25789"
      },
      "execution_count": null,
      "outputs": [
        {
          "output_type": "execute_result",
          "data": {
            "text/plain": [
              "                                                   Source Destination\n",
              "0       # Directed graph (each unordered pair of nodes...         NaN\n",
              "1       # Email network of a large European Research I...         NaN\n",
              "2                           # Nodes: 265214 Edges: 420045         NaN\n",
              "3                                            # FromNodeId    ToNodeId\n",
              "4                                                       0           1\n",
              "...                                                   ...         ...\n",
              "420044                                             265209         422\n",
              "420045                                             265210         422\n",
              "420046                                             265211         192\n",
              "420047                                             265212         875\n",
              "420048                                             265213      255750\n",
              "\n",
              "[420049 rows x 2 columns]"
            ],
            "text/html": [
              "\n",
              "  <div id=\"df-7b3fd90f-de41-4c15-801a-caac499f3777\">\n",
              "    <div class=\"colab-df-container\">\n",
              "      <div>\n",
              "<style scoped>\n",
              "    .dataframe tbody tr th:only-of-type {\n",
              "        vertical-align: middle;\n",
              "    }\n",
              "\n",
              "    .dataframe tbody tr th {\n",
              "        vertical-align: top;\n",
              "    }\n",
              "\n",
              "    .dataframe thead th {\n",
              "        text-align: right;\n",
              "    }\n",
              "</style>\n",
              "<table border=\"1\" class=\"dataframe\">\n",
              "  <thead>\n",
              "    <tr style=\"text-align: right;\">\n",
              "      <th></th>\n",
              "      <th>Source</th>\n",
              "      <th>Destination</th>\n",
              "    </tr>\n",
              "  </thead>\n",
              "  <tbody>\n",
              "    <tr>\n",
              "      <th>0</th>\n",
              "      <td># Directed graph (each unordered pair of nodes...</td>\n",
              "      <td>NaN</td>\n",
              "    </tr>\n",
              "    <tr>\n",
              "      <th>1</th>\n",
              "      <td># Email network of a large European Research I...</td>\n",
              "      <td>NaN</td>\n",
              "    </tr>\n",
              "    <tr>\n",
              "      <th>2</th>\n",
              "      <td># Nodes: 265214 Edges: 420045</td>\n",
              "      <td>NaN</td>\n",
              "    </tr>\n",
              "    <tr>\n",
              "      <th>3</th>\n",
              "      <td># FromNodeId</td>\n",
              "      <td>ToNodeId</td>\n",
              "    </tr>\n",
              "    <tr>\n",
              "      <th>4</th>\n",
              "      <td>0</td>\n",
              "      <td>1</td>\n",
              "    </tr>\n",
              "    <tr>\n",
              "      <th>...</th>\n",
              "      <td>...</td>\n",
              "      <td>...</td>\n",
              "    </tr>\n",
              "    <tr>\n",
              "      <th>420044</th>\n",
              "      <td>265209</td>\n",
              "      <td>422</td>\n",
              "    </tr>\n",
              "    <tr>\n",
              "      <th>420045</th>\n",
              "      <td>265210</td>\n",
              "      <td>422</td>\n",
              "    </tr>\n",
              "    <tr>\n",
              "      <th>420046</th>\n",
              "      <td>265211</td>\n",
              "      <td>192</td>\n",
              "    </tr>\n",
              "    <tr>\n",
              "      <th>420047</th>\n",
              "      <td>265212</td>\n",
              "      <td>875</td>\n",
              "    </tr>\n",
              "    <tr>\n",
              "      <th>420048</th>\n",
              "      <td>265213</td>\n",
              "      <td>255750</td>\n",
              "    </tr>\n",
              "  </tbody>\n",
              "</table>\n",
              "<p>420049 rows × 2 columns</p>\n",
              "</div>\n",
              "      <button class=\"colab-df-convert\" onclick=\"convertToInteractive('df-7b3fd90f-de41-4c15-801a-caac499f3777')\"\n",
              "              title=\"Convert this dataframe to an interactive table.\"\n",
              "              style=\"display:none;\">\n",
              "        \n",
              "  <svg xmlns=\"http://www.w3.org/2000/svg\" height=\"24px\"viewBox=\"0 0 24 24\"\n",
              "       width=\"24px\">\n",
              "    <path d=\"M0 0h24v24H0V0z\" fill=\"none\"/>\n",
              "    <path d=\"M18.56 5.44l.94 2.06.94-2.06 2.06-.94-2.06-.94-.94-2.06-.94 2.06-2.06.94zm-11 1L8.5 8.5l.94-2.06 2.06-.94-2.06-.94L8.5 2.5l-.94 2.06-2.06.94zm10 10l.94 2.06.94-2.06 2.06-.94-2.06-.94-.94-2.06-.94 2.06-2.06.94z\"/><path d=\"M17.41 7.96l-1.37-1.37c-.4-.4-.92-.59-1.43-.59-.52 0-1.04.2-1.43.59L10.3 9.45l-7.72 7.72c-.78.78-.78 2.05 0 2.83L4 21.41c.39.39.9.59 1.41.59.51 0 1.02-.2 1.41-.59l7.78-7.78 2.81-2.81c.8-.78.8-2.07 0-2.86zM5.41 20L4 18.59l7.72-7.72 1.47 1.35L5.41 20z\"/>\n",
              "  </svg>\n",
              "      </button>\n",
              "      \n",
              "  <style>\n",
              "    .colab-df-container {\n",
              "      display:flex;\n",
              "      flex-wrap:wrap;\n",
              "      gap: 12px;\n",
              "    }\n",
              "\n",
              "    .colab-df-convert {\n",
              "      background-color: #E8F0FE;\n",
              "      border: none;\n",
              "      border-radius: 50%;\n",
              "      cursor: pointer;\n",
              "      display: none;\n",
              "      fill: #1967D2;\n",
              "      height: 32px;\n",
              "      padding: 0 0 0 0;\n",
              "      width: 32px;\n",
              "    }\n",
              "\n",
              "    .colab-df-convert:hover {\n",
              "      background-color: #E2EBFA;\n",
              "      box-shadow: 0px 1px 2px rgba(60, 64, 67, 0.3), 0px 1px 3px 1px rgba(60, 64, 67, 0.15);\n",
              "      fill: #174EA6;\n",
              "    }\n",
              "\n",
              "    [theme=dark] .colab-df-convert {\n",
              "      background-color: #3B4455;\n",
              "      fill: #D2E3FC;\n",
              "    }\n",
              "\n",
              "    [theme=dark] .colab-df-convert:hover {\n",
              "      background-color: #434B5C;\n",
              "      box-shadow: 0px 1px 3px 1px rgba(0, 0, 0, 0.15);\n",
              "      filter: drop-shadow(0px 1px 2px rgba(0, 0, 0, 0.3));\n",
              "      fill: #FFFFFF;\n",
              "    }\n",
              "  </style>\n",
              "\n",
              "      <script>\n",
              "        const buttonEl =\n",
              "          document.querySelector('#df-7b3fd90f-de41-4c15-801a-caac499f3777 button.colab-df-convert');\n",
              "        buttonEl.style.display =\n",
              "          google.colab.kernel.accessAllowed ? 'block' : 'none';\n",
              "\n",
              "        async function convertToInteractive(key) {\n",
              "          const element = document.querySelector('#df-7b3fd90f-de41-4c15-801a-caac499f3777');\n",
              "          const dataTable =\n",
              "            await google.colab.kernel.invokeFunction('convertToInteractive',\n",
              "                                                     [key], {});\n",
              "          if (!dataTable) return;\n",
              "\n",
              "          const docLinkHtml = 'Like what you see? Visit the ' +\n",
              "            '<a target=\"_blank\" href=https://colab.research.google.com/notebooks/data_table.ipynb>data table notebook</a>'\n",
              "            + ' to learn more about interactive tables.';\n",
              "          element.innerHTML = '';\n",
              "          dataTable['output_type'] = 'display_data';\n",
              "          await google.colab.output.renderOutput(dataTable, element);\n",
              "          const docLink = document.createElement('div');\n",
              "          docLink.innerHTML = docLinkHtml;\n",
              "          element.appendChild(docLink);\n",
              "        }\n",
              "      </script>\n",
              "    </div>\n",
              "  </div>\n",
              "  "
            ]
          },
          "metadata": {},
          "execution_count": 14
        }
      ]
    },
    {
      "cell_type": "code",
      "source": [
        "emails.dropna(inplace=True)\n",
        "emails.drop([3],axis=0,inplace=True)\n",
        "emails.reset_index(inplace=True,drop=True)"
      ],
      "metadata": {
        "id": "SM8-jLzo7nos"
      },
      "execution_count": null,
      "outputs": []
    },
    {
      "cell_type": "code",
      "source": [
        "emails = emails.astype({'Source':'int'})\n",
        "emails = emails.astype({'Destination':'int'})"
      ],
      "metadata": {
        "id": "4VVPj19R27Gp"
      },
      "execution_count": null,
      "outputs": []
    },
    {
      "cell_type": "code",
      "source": [
        "email = nx.from_pandas_edgelist(emails, source='Source', target='Destination',create_using=nx.DiGraph)\n",
        "email = email.to_undirected()\n",
        "#email_in_degrees = sorted((d for n, d in email.in_degree()), reverse=True)\n",
        "#email_out_degrees = sorted((d for n, d in email.out_degree()), reverse=True)\n",
        "#temp = nx.from_pandas_edgelist(emails, source='Source', target='Destination',create_using=nx.DiGraph)\n",
        "#largest_cc =nx.subgraph(temp,max(nx.weakly_connected_components(temp),key=len))\n",
        "#largest_cc = largest_cc.to_undirected()"
      ],
      "metadata": {
        "id": "JXjvD1ig91n-"
      },
      "execution_count": null,
      "outputs": []
    },
    {
      "cell_type": "code",
      "source": [
        "louvain1 = louvain1.T.reset_index().T.reset_index(drop=True)"
      ],
      "metadata": {
        "id": "i4kHxq8_uRkL"
      },
      "execution_count": null,
      "outputs": []
    },
    {
      "cell_type": "code",
      "source": [
        "louvain1[0][0] = 0\n",
        "louvain1[0]"
      ],
      "metadata": {
        "colab": {
          "base_uri": "https://localhost:8080/"
        },
        "id": "qNQf_i26wP8b",
        "outputId": "d39b4e4c-6ee1-4777-8b13-2ba3300920dd"
      },
      "execution_count": null,
      "outputs": [
        {
          "output_type": "execute_result",
          "data": {
            "text/plain": [
              "0           0\n",
              "1         0.0\n",
              "2         0.0\n",
              "3         0.0\n",
              "4         0.0\n",
              "         ... \n",
              "265209    0.0\n",
              "265210    0.0\n",
              "265211    0.0\n",
              "265212    0.0\n",
              "265213    0.0\n",
              "Name: 0, Length: 265214, dtype: object"
            ]
          },
          "metadata": {},
          "execution_count": 68
        }
      ]
    },
    {
      "cell_type": "code",
      "source": [
        "np.array(louvain1).shape"
      ],
      "metadata": {
        "colab": {
          "base_uri": "https://localhost:8080/"
        },
        "id": "RHttuOBWv-xb",
        "outputId": "f6faae30-fc79-4065-fcf6-24524dc0b92c"
      },
      "execution_count": null,
      "outputs": [
        {
          "output_type": "execute_result",
          "data": {
            "text/plain": [
              "(265214, 1)"
            ]
          },
          "metadata": {},
          "execution_count": 69
        }
      ]
    },
    {
      "cell_type": "code",
      "source": [
        "pred_louvain = np.array(louvain1).reshape(265214,)"
      ],
      "metadata": {
        "id": "UdxjhWej-sL8"
      },
      "execution_count": null,
      "outputs": []
    },
    {
      "cell_type": "code",
      "source": [
        "### LEIDEN\n",
        "cada_leiden = cada(email,algorithm='leiden')\n",
        "n_inj = int(10)\n",
        "pred_leiden = cada_leiden.clf(n_inj)"
      ],
      "metadata": {
        "id": "cA7MtBL_h2Xv"
      },
      "execution_count": null,
      "outputs": []
    },
    {
      "cell_type": "code",
      "source": [
        "pred_leiden.shape"
      ],
      "metadata": {
        "id": "ehwf1eq569N8",
        "outputId": "020d2170-b297-45ac-c002-a0f34ad2c4eb",
        "colab": {
          "base_uri": "https://localhost:8080/"
        }
      },
      "execution_count": null,
      "outputs": [
        {
          "output_type": "execute_result",
          "data": {
            "text/plain": [
              "(265214,)"
            ]
          },
          "metadata": {},
          "execution_count": 74
        }
      ]
    },
    {
      "cell_type": "code",
      "source": [
        "### INFOMAP\n",
        "cada_infomap = cada(email,algorithm='infomap')\n",
        "n_inj = int(10)\n",
        "pred_infomap = cada_infomap.clf(n_inj)"
      ],
      "metadata": {
        "id": "RjVGmaeYh2Xw"
      },
      "execution_count": null,
      "outputs": []
    },
    {
      "cell_type": "code",
      "source": [
        "print('leiden_vs_infomap =' + str(np.sum(pred_leiden * pred_infomap) / n_inj))\n",
        "print('leiden_vs_louvain =' + str(np.sum(pred_leiden * pred_louvain) / n_inj))\n",
        "print('louvain_vs_infomap =' + str(np.sum(pred_louvain * pred_infomap) / n_inj))\n"
      ],
      "metadata": {
        "id": "tYHR0WLQozk2",
        "colab": {
          "base_uri": "https://localhost:8080/"
        },
        "outputId": "9c501256-0a82-441e-d8f8-769edb174044"
      },
      "execution_count": null,
      "outputs": [
        {
          "output_type": "stream",
          "name": "stdout",
          "text": [
            "leiden_vs_infomap =0.0\n",
            "leiden_vs_louvain =0.0\n",
            "louvain_vs_infomap =0.8\n"
          ]
        }
      ]
    },
    {
      "cell_type": "code",
      "source": [
        "#from numpy import savetxt\n",
        "#savetxt('data.csv', pred_leiden, delimiter=',')\n",
        "# load numpy array from csv file\n",
        "#from numpy import loadtxt\n",
        "# load array\n",
        "#data = loadtxt('data.csv', delimiter=',')"
      ],
      "metadata": {
        "id": "AgMTSYb649Ta"
      },
      "execution_count": null,
      "outputs": []
    },
    {
      "cell_type": "code",
      "source": [
        "### Fluid Communities require connected Graphs.\n",
        "\n",
        "cada_fluid = cada(largest_cc,algorithm='fluid')\n",
        "pred_fluid= cada_fluid.clf(10)"
      ],
      "metadata": {
        "id": "VH41K1k0h2Xw"
      },
      "execution_count": null,
      "outputs": []
    },
    {
      "cell_type": "code",
      "source": [
        "print('fluid_vs_infomap =' + str(np.sum(pred_fluid * pred_infomap) / 10))"
      ],
      "metadata": {
        "colab": {
          "base_uri": "https://localhost:8080/"
        },
        "id": "Ckn_C7mvGmWD",
        "outputId": "0d03a56c-3d54-4213-d32b-a577c8dd3b23"
      },
      "execution_count": null,
      "outputs": [
        {
          "output_type": "stream",
          "name": "stdout",
          "text": [
            "fluid_vs_infomap =0.7\n"
          ]
        }
      ]
    },
    {
      "cell_type": "markdown",
      "source": [
        "**DATASET2**\n",
        "\n",
        "fluid_vs_infomap =0.7\n",
        "\n",
        "\n",
        "leiden_vs_infomap =0.0"
      ],
      "metadata": {
        "id": "6TjLZltxj4X2"
      }
    },
    {
      "cell_type": "markdown",
      "source": [
        "**DATASET 3**\n",
        "\n",
        "\n",
        "fluid_vs_infomap =0.55\n",
        "\n",
        "leiden_vs_infomap =0.0\n",
        "\n",
        "\n"
      ],
      "metadata": {
        "id": "1IRBiOB-5G0W"
      }
    },
    {
      "cell_type": "code",
      "source": [],
      "metadata": {
        "id": "M6wdI5d35HqR"
      },
      "execution_count": null,
      "outputs": []
    },
    {
      "cell_type": "code",
      "source": [
        "wiki"
      ],
      "metadata": {
        "colab": {
          "base_uri": "https://localhost:8080/",
          "height": 424
        },
        "outputId": "6a653d4a-682b-4dae-d0ca-7b9aad46ea60",
        "id": "zUuSLYkW5J5m"
      },
      "execution_count": null,
      "outputs": [
        {
          "output_type": "execute_result",
          "data": {
            "text/plain": [
              "                                                    Source Destination\n",
              "0        # Directed graph (each unordered pair of nodes...         NaN\n",
              "1        # Communication network of Wikipedia (till Jan...         NaN\n",
              "2                          # Nodes: 2394385 Edges: 5021410         NaN\n",
              "3                                             # FromNodeId    ToNodeId\n",
              "4                                                        0           1\n",
              "...                                                    ...         ...\n",
              "5021409                                            2393724     2393725\n",
              "5021410                                            2393740       80239\n",
              "5021411                                            2393816       27171\n",
              "5021412                                            2393817       27171\n",
              "5021413                                            2393818       27171\n",
              "\n",
              "[5021414 rows x 2 columns]"
            ],
            "text/html": [
              "\n",
              "  <div id=\"df-93331810-91af-44ea-b653-c69ae112c467\">\n",
              "    <div class=\"colab-df-container\">\n",
              "      <div>\n",
              "<style scoped>\n",
              "    .dataframe tbody tr th:only-of-type {\n",
              "        vertical-align: middle;\n",
              "    }\n",
              "\n",
              "    .dataframe tbody tr th {\n",
              "        vertical-align: top;\n",
              "    }\n",
              "\n",
              "    .dataframe thead th {\n",
              "        text-align: right;\n",
              "    }\n",
              "</style>\n",
              "<table border=\"1\" class=\"dataframe\">\n",
              "  <thead>\n",
              "    <tr style=\"text-align: right;\">\n",
              "      <th></th>\n",
              "      <th>Source</th>\n",
              "      <th>Destination</th>\n",
              "    </tr>\n",
              "  </thead>\n",
              "  <tbody>\n",
              "    <tr>\n",
              "      <th>0</th>\n",
              "      <td># Directed graph (each unordered pair of nodes...</td>\n",
              "      <td>NaN</td>\n",
              "    </tr>\n",
              "    <tr>\n",
              "      <th>1</th>\n",
              "      <td># Communication network of Wikipedia (till Jan...</td>\n",
              "      <td>NaN</td>\n",
              "    </tr>\n",
              "    <tr>\n",
              "      <th>2</th>\n",
              "      <td># Nodes: 2394385 Edges: 5021410</td>\n",
              "      <td>NaN</td>\n",
              "    </tr>\n",
              "    <tr>\n",
              "      <th>3</th>\n",
              "      <td># FromNodeId</td>\n",
              "      <td>ToNodeId</td>\n",
              "    </tr>\n",
              "    <tr>\n",
              "      <th>4</th>\n",
              "      <td>0</td>\n",
              "      <td>1</td>\n",
              "    </tr>\n",
              "    <tr>\n",
              "      <th>...</th>\n",
              "      <td>...</td>\n",
              "      <td>...</td>\n",
              "    </tr>\n",
              "    <tr>\n",
              "      <th>5021409</th>\n",
              "      <td>2393724</td>\n",
              "      <td>2393725</td>\n",
              "    </tr>\n",
              "    <tr>\n",
              "      <th>5021410</th>\n",
              "      <td>2393740</td>\n",
              "      <td>80239</td>\n",
              "    </tr>\n",
              "    <tr>\n",
              "      <th>5021411</th>\n",
              "      <td>2393816</td>\n",
              "      <td>27171</td>\n",
              "    </tr>\n",
              "    <tr>\n",
              "      <th>5021412</th>\n",
              "      <td>2393817</td>\n",
              "      <td>27171</td>\n",
              "    </tr>\n",
              "    <tr>\n",
              "      <th>5021413</th>\n",
              "      <td>2393818</td>\n",
              "      <td>27171</td>\n",
              "    </tr>\n",
              "  </tbody>\n",
              "</table>\n",
              "<p>5021414 rows × 2 columns</p>\n",
              "</div>\n",
              "      <button class=\"colab-df-convert\" onclick=\"convertToInteractive('df-93331810-91af-44ea-b653-c69ae112c467')\"\n",
              "              title=\"Convert this dataframe to an interactive table.\"\n",
              "              style=\"display:none;\">\n",
              "        \n",
              "  <svg xmlns=\"http://www.w3.org/2000/svg\" height=\"24px\"viewBox=\"0 0 24 24\"\n",
              "       width=\"24px\">\n",
              "    <path d=\"M0 0h24v24H0V0z\" fill=\"none\"/>\n",
              "    <path d=\"M18.56 5.44l.94 2.06.94-2.06 2.06-.94-2.06-.94-.94-2.06-.94 2.06-2.06.94zm-11 1L8.5 8.5l.94-2.06 2.06-.94-2.06-.94L8.5 2.5l-.94 2.06-2.06.94zm10 10l.94 2.06.94-2.06 2.06-.94-2.06-.94-.94-2.06-.94 2.06-2.06.94z\"/><path d=\"M17.41 7.96l-1.37-1.37c-.4-.4-.92-.59-1.43-.59-.52 0-1.04.2-1.43.59L10.3 9.45l-7.72 7.72c-.78.78-.78 2.05 0 2.83L4 21.41c.39.39.9.59 1.41.59.51 0 1.02-.2 1.41-.59l7.78-7.78 2.81-2.81c.8-.78.8-2.07 0-2.86zM5.41 20L4 18.59l7.72-7.72 1.47 1.35L5.41 20z\"/>\n",
              "  </svg>\n",
              "      </button>\n",
              "      \n",
              "  <style>\n",
              "    .colab-df-container {\n",
              "      display:flex;\n",
              "      flex-wrap:wrap;\n",
              "      gap: 12px;\n",
              "    }\n",
              "\n",
              "    .colab-df-convert {\n",
              "      background-color: #E8F0FE;\n",
              "      border: none;\n",
              "      border-radius: 50%;\n",
              "      cursor: pointer;\n",
              "      display: none;\n",
              "      fill: #1967D2;\n",
              "      height: 32px;\n",
              "      padding: 0 0 0 0;\n",
              "      width: 32px;\n",
              "    }\n",
              "\n",
              "    .colab-df-convert:hover {\n",
              "      background-color: #E2EBFA;\n",
              "      box-shadow: 0px 1px 2px rgba(60, 64, 67, 0.3), 0px 1px 3px 1px rgba(60, 64, 67, 0.15);\n",
              "      fill: #174EA6;\n",
              "    }\n",
              "\n",
              "    [theme=dark] .colab-df-convert {\n",
              "      background-color: #3B4455;\n",
              "      fill: #D2E3FC;\n",
              "    }\n",
              "\n",
              "    [theme=dark] .colab-df-convert:hover {\n",
              "      background-color: #434B5C;\n",
              "      box-shadow: 0px 1px 3px 1px rgba(0, 0, 0, 0.15);\n",
              "      filter: drop-shadow(0px 1px 2px rgba(0, 0, 0, 0.3));\n",
              "      fill: #FFFFFF;\n",
              "    }\n",
              "  </style>\n",
              "\n",
              "      <script>\n",
              "        const buttonEl =\n",
              "          document.querySelector('#df-93331810-91af-44ea-b653-c69ae112c467 button.colab-df-convert');\n",
              "        buttonEl.style.display =\n",
              "          google.colab.kernel.accessAllowed ? 'block' : 'none';\n",
              "\n",
              "        async function convertToInteractive(key) {\n",
              "          const element = document.querySelector('#df-93331810-91af-44ea-b653-c69ae112c467');\n",
              "          const dataTable =\n",
              "            await google.colab.kernel.invokeFunction('convertToInteractive',\n",
              "                                                     [key], {});\n",
              "          if (!dataTable) return;\n",
              "\n",
              "          const docLinkHtml = 'Like what you see? Visit the ' +\n",
              "            '<a target=\"_blank\" href=https://colab.research.google.com/notebooks/data_table.ipynb>data table notebook</a>'\n",
              "            + ' to learn more about interactive tables.';\n",
              "          element.innerHTML = '';\n",
              "          dataTable['output_type'] = 'display_data';\n",
              "          await google.colab.output.renderOutput(dataTable, element);\n",
              "          const docLink = document.createElement('div');\n",
              "          docLink.innerHTML = docLinkHtml;\n",
              "          element.appendChild(docLink);\n",
              "        }\n",
              "      </script>\n",
              "    </div>\n",
              "  </div>\n",
              "  "
            ]
          },
          "metadata": {},
          "execution_count": 8
        }
      ]
    },
    {
      "cell_type": "code",
      "source": [
        "wiki.dropna(inplace=True)\n",
        "wiki.drop([3],axis=0,inplace=True)\n",
        "wiki.reset_index(inplace=True,drop=True)"
      ],
      "metadata": {
        "id": "QyyC-2wc5J5m"
      },
      "execution_count": null,
      "outputs": []
    },
    {
      "cell_type": "code",
      "source": [
        "wiki = wiki.astype({'Source':'int'})\n",
        "wiki = wiki.astype({'Destination':'int'})"
      ],
      "metadata": {
        "id": "5G6qeLdB5J5n"
      },
      "execution_count": null,
      "outputs": []
    },
    {
      "cell_type": "code",
      "source": [
        "wiki_g = nx.from_pandas_edgelist(wiki, source='Source', target='Destination',create_using=nx.DiGraph)\n",
        "wiki_g = wiki_g.to_undirected()\n",
        "#email_in_degrees = sorted((d for n, d in email.in_degree()), reverse=True)\n",
        "#email_out_degrees = sorted((d for n, d in email.out_degree()), reverse=True)"
      ],
      "metadata": {
        "id": "f3kUOQUh5J5n"
      },
      "execution_count": null,
      "outputs": []
    },
    {
      "cell_type": "code",
      "source": [],
      "metadata": {
        "id": "V-fRytip5J5n"
      },
      "execution_count": null,
      "outputs": []
    },
    {
      "cell_type": "code",
      "source": [
        "louvain2 = louvain2.T.reset_index().T.reset_index(drop=True)\n",
        "louvain2"
      ],
      "metadata": {
        "colab": {
          "base_uri": "https://localhost:8080/",
          "height": 424
        },
        "id": "2Pq3ZcfBxDVh",
        "outputId": "828e3a8c-c8c3-4079-97bc-22a3c8852641"
      },
      "execution_count": null,
      "outputs": [
        {
          "output_type": "execute_result",
          "data": {
            "text/plain": [
              "                                0\n",
              "0        0.000000000000000000e+00\n",
              "1                             0.0\n",
              "2                             0.0\n",
              "3                             0.0\n",
              "4                             0.0\n",
              "...                           ...\n",
              "2394380                       0.0\n",
              "2394381                       0.0\n",
              "2394382                       0.0\n",
              "2394383                       0.0\n",
              "2394384                       0.0\n",
              "\n",
              "[2394385 rows x 1 columns]"
            ],
            "text/html": [
              "\n",
              "  <div id=\"df-bf4ece9d-115b-4523-897e-ae4ea14aaebe\">\n",
              "    <div class=\"colab-df-container\">\n",
              "      <div>\n",
              "<style scoped>\n",
              "    .dataframe tbody tr th:only-of-type {\n",
              "        vertical-align: middle;\n",
              "    }\n",
              "\n",
              "    .dataframe tbody tr th {\n",
              "        vertical-align: top;\n",
              "    }\n",
              "\n",
              "    .dataframe thead th {\n",
              "        text-align: right;\n",
              "    }\n",
              "</style>\n",
              "<table border=\"1\" class=\"dataframe\">\n",
              "  <thead>\n",
              "    <tr style=\"text-align: right;\">\n",
              "      <th></th>\n",
              "      <th>0</th>\n",
              "    </tr>\n",
              "  </thead>\n",
              "  <tbody>\n",
              "    <tr>\n",
              "      <th>0</th>\n",
              "      <td>0.000000000000000000e+00</td>\n",
              "    </tr>\n",
              "    <tr>\n",
              "      <th>1</th>\n",
              "      <td>0.0</td>\n",
              "    </tr>\n",
              "    <tr>\n",
              "      <th>2</th>\n",
              "      <td>0.0</td>\n",
              "    </tr>\n",
              "    <tr>\n",
              "      <th>3</th>\n",
              "      <td>0.0</td>\n",
              "    </tr>\n",
              "    <tr>\n",
              "      <th>4</th>\n",
              "      <td>0.0</td>\n",
              "    </tr>\n",
              "    <tr>\n",
              "      <th>...</th>\n",
              "      <td>...</td>\n",
              "    </tr>\n",
              "    <tr>\n",
              "      <th>2394380</th>\n",
              "      <td>0.0</td>\n",
              "    </tr>\n",
              "    <tr>\n",
              "      <th>2394381</th>\n",
              "      <td>0.0</td>\n",
              "    </tr>\n",
              "    <tr>\n",
              "      <th>2394382</th>\n",
              "      <td>0.0</td>\n",
              "    </tr>\n",
              "    <tr>\n",
              "      <th>2394383</th>\n",
              "      <td>0.0</td>\n",
              "    </tr>\n",
              "    <tr>\n",
              "      <th>2394384</th>\n",
              "      <td>0.0</td>\n",
              "    </tr>\n",
              "  </tbody>\n",
              "</table>\n",
              "<p>2394385 rows × 1 columns</p>\n",
              "</div>\n",
              "      <button class=\"colab-df-convert\" onclick=\"convertToInteractive('df-bf4ece9d-115b-4523-897e-ae4ea14aaebe')\"\n",
              "              title=\"Convert this dataframe to an interactive table.\"\n",
              "              style=\"display:none;\">\n",
              "        \n",
              "  <svg xmlns=\"http://www.w3.org/2000/svg\" height=\"24px\"viewBox=\"0 0 24 24\"\n",
              "       width=\"24px\">\n",
              "    <path d=\"M0 0h24v24H0V0z\" fill=\"none\"/>\n",
              "    <path d=\"M18.56 5.44l.94 2.06.94-2.06 2.06-.94-2.06-.94-.94-2.06-.94 2.06-2.06.94zm-11 1L8.5 8.5l.94-2.06 2.06-.94-2.06-.94L8.5 2.5l-.94 2.06-2.06.94zm10 10l.94 2.06.94-2.06 2.06-.94-2.06-.94-.94-2.06-.94 2.06-2.06.94z\"/><path d=\"M17.41 7.96l-1.37-1.37c-.4-.4-.92-.59-1.43-.59-.52 0-1.04.2-1.43.59L10.3 9.45l-7.72 7.72c-.78.78-.78 2.05 0 2.83L4 21.41c.39.39.9.59 1.41.59.51 0 1.02-.2 1.41-.59l7.78-7.78 2.81-2.81c.8-.78.8-2.07 0-2.86zM5.41 20L4 18.59l7.72-7.72 1.47 1.35L5.41 20z\"/>\n",
              "  </svg>\n",
              "      </button>\n",
              "      \n",
              "  <style>\n",
              "    .colab-df-container {\n",
              "      display:flex;\n",
              "      flex-wrap:wrap;\n",
              "      gap: 12px;\n",
              "    }\n",
              "\n",
              "    .colab-df-convert {\n",
              "      background-color: #E8F0FE;\n",
              "      border: none;\n",
              "      border-radius: 50%;\n",
              "      cursor: pointer;\n",
              "      display: none;\n",
              "      fill: #1967D2;\n",
              "      height: 32px;\n",
              "      padding: 0 0 0 0;\n",
              "      width: 32px;\n",
              "    }\n",
              "\n",
              "    .colab-df-convert:hover {\n",
              "      background-color: #E2EBFA;\n",
              "      box-shadow: 0px 1px 2px rgba(60, 64, 67, 0.3), 0px 1px 3px 1px rgba(60, 64, 67, 0.15);\n",
              "      fill: #174EA6;\n",
              "    }\n",
              "\n",
              "    [theme=dark] .colab-df-convert {\n",
              "      background-color: #3B4455;\n",
              "      fill: #D2E3FC;\n",
              "    }\n",
              "\n",
              "    [theme=dark] .colab-df-convert:hover {\n",
              "      background-color: #434B5C;\n",
              "      box-shadow: 0px 1px 3px 1px rgba(0, 0, 0, 0.15);\n",
              "      filter: drop-shadow(0px 1px 2px rgba(0, 0, 0, 0.3));\n",
              "      fill: #FFFFFF;\n",
              "    }\n",
              "  </style>\n",
              "\n",
              "      <script>\n",
              "        const buttonEl =\n",
              "          document.querySelector('#df-bf4ece9d-115b-4523-897e-ae4ea14aaebe button.colab-df-convert');\n",
              "        buttonEl.style.display =\n",
              "          google.colab.kernel.accessAllowed ? 'block' : 'none';\n",
              "\n",
              "        async function convertToInteractive(key) {\n",
              "          const element = document.querySelector('#df-bf4ece9d-115b-4523-897e-ae4ea14aaebe');\n",
              "          const dataTable =\n",
              "            await google.colab.kernel.invokeFunction('convertToInteractive',\n",
              "                                                     [key], {});\n",
              "          if (!dataTable) return;\n",
              "\n",
              "          const docLinkHtml = 'Like what you see? Visit the ' +\n",
              "            '<a target=\"_blank\" href=https://colab.research.google.com/notebooks/data_table.ipynb>data table notebook</a>'\n",
              "            + ' to learn more about interactive tables.';\n",
              "          element.innerHTML = '';\n",
              "          dataTable['output_type'] = 'display_data';\n",
              "          await google.colab.output.renderOutput(dataTable, element);\n",
              "          const docLink = document.createElement('div');\n",
              "          docLink.innerHTML = docLinkHtml;\n",
              "          element.appendChild(docLink);\n",
              "        }\n",
              "      </script>\n",
              "    </div>\n",
              "  </div>\n",
              "  "
            ]
          },
          "metadata": {},
          "execution_count": 12
        }
      ]
    },
    {
      "cell_type": "code",
      "source": [
        "louvain2[0][0] = 0"
      ],
      "metadata": {
        "id": "PrUVzgEvxmIE"
      },
      "execution_count": null,
      "outputs": []
    },
    {
      "cell_type": "code",
      "source": [
        "louvain2.sum()"
      ],
      "metadata": {
        "colab": {
          "base_uri": "https://localhost:8080/"
        },
        "outputId": "88d253e4-c60f-46a7-d732-f21406404319",
        "id": "urdUqjlsxDVi"
      },
      "execution_count": null,
      "outputs": [
        {
          "output_type": "execute_result",
          "data": {
            "text/plain": [
              "0    100.0\n",
              "dtype: object"
            ]
          },
          "metadata": {},
          "execution_count": 14
        }
      ]
    },
    {
      "cell_type": "code",
      "source": [
        "np.array(louvain2).shape"
      ],
      "metadata": {
        "colab": {
          "base_uri": "https://localhost:8080/"
        },
        "outputId": "753196fa-91e9-4d26-eb21-5aecb18bd6f7",
        "id": "RCan_BbVxDVi"
      },
      "execution_count": null,
      "outputs": [
        {
          "output_type": "execute_result",
          "data": {
            "text/plain": [
              "(2394385, 1)"
            ]
          },
          "metadata": {},
          "execution_count": 15
        }
      ]
    },
    {
      "cell_type": "code",
      "source": [
        "pred_louvain = np.array(louvain2).reshape(2394385,)"
      ],
      "metadata": {
        "id": "oZKdZh3BxDVi"
      },
      "execution_count": null,
      "outputs": []
    },
    {
      "cell_type": "code",
      "source": [
        "### LEIDEN\n",
        "cada_leiden = cada(wiki_g,algorithm='leiden')\n",
        "n_inj = int(100)\n",
        "pred_leiden = cada_leiden.clf(n_inj)"
      ],
      "metadata": {
        "id": "1Q67toimlC9f"
      },
      "execution_count": null,
      "outputs": []
    },
    {
      "cell_type": "code",
      "source": [
        "### INFOMAP\n",
        "cada_infomap = cada(wiki_g,algorithm='infomap')\n",
        "n_inj = int(100)\n",
        "pred_infomap = cada_infomap.clf(n_inj)"
      ],
      "metadata": {
        "id": "vqXoxYJrlC9g"
      },
      "execution_count": null,
      "outputs": []
    },
    {
      "cell_type": "code",
      "source": [
        "print('leiden_vs_infomap =' + str(np.sum(pred_leiden * pred_infomap) / n_inj))\n",
        "print('leiden_vs_louvain =' + str(np.sum(pred_leiden * pred_louvain) / n_inj))\n",
        "print('louvain_vs_infomap =' + str(np.sum(pred_louvain * pred_infomap) / n_inj))"
      ],
      "metadata": {
        "colab": {
          "base_uri": "https://localhost:8080/"
        },
        "outputId": "0137b04d-3e08-489c-d282-140931b49eed",
        "id": "8_jL2BU-lC9g"
      },
      "execution_count": null,
      "outputs": [
        {
          "output_type": "stream",
          "name": "stdout",
          "text": [
            "leiden_vs_infomap =0.0\n",
            "leiden_vs_louvain =0.0\n",
            "louvain_vs_infomap =0.34\n"
          ]
        }
      ]
    },
    {
      "cell_type": "code",
      "source": [
        "temp = nx.from_pandas_edgelist(wiki, source='Source', target='Destination',create_using=nx.DiGraph)\n",
        "largest_cc =nx.subgraph(temp,max(nx.weakly_connected_components(temp),key=len))\n",
        "largest_cc = largest_cc.to_undirected()"
      ],
      "metadata": {
        "id": "yiNB5jk7lMiR"
      },
      "execution_count": null,
      "outputs": []
    },
    {
      "cell_type": "code",
      "source": [
        "### INFOMAP\n",
        "cada_infomap = cada(largest_cc,algorithm='infomap')\n",
        "n_inj = int(100)\n",
        "pred_infomap = cada_infomap.clf(n_inj)"
      ],
      "metadata": {
        "id": "Df11GCeKlMw-"
      },
      "execution_count": null,
      "outputs": []
    },
    {
      "cell_type": "code",
      "source": [
        "### Fluid Communities require connected Graphs.\n",
        "\n",
        "cada_fluid = cada(largest_cc,algorithm='fluid')\n",
        "pred_fluid= cada_fluid.clf(100)"
      ],
      "metadata": {
        "id": "s9nCjYbelC9g"
      },
      "execution_count": null,
      "outputs": []
    },
    {
      "cell_type": "code",
      "source": [
        "print('fluid_vs_infomap =' + str(np.sum(pred_fluid * pred_infomap) / 100))"
      ],
      "metadata": {
        "colab": {
          "base_uri": "https://localhost:8080/"
        },
        "outputId": "87f65adb-fda7-4149-90dc-1e4a4e8b1c42",
        "id": "Fk5Awo8ilC9g"
      },
      "execution_count": null,
      "outputs": [
        {
          "output_type": "stream",
          "name": "stdout",
          "text": [
            "fluid_vs_infomap =0.55\n"
          ]
        }
      ]
    },
    {
      "cell_type": "code",
      "source": [],
      "metadata": {
        "colab": {
          "base_uri": "https://localhost:8080/"
        },
        "outputId": "b8975c18-a64d-40e8-c272-0a52004d494c",
        "id": "opi7cxb95J5n"
      },
      "execution_count": null,
      "outputs": [
        {
          "output_type": "execute_result",
          "data": {
            "text/plain": [
              "<__main__.cada at 0x7fdfa6565dc0>"
            ]
          },
          "metadata": {},
          "execution_count": 45
        }
      ]
    },
    {
      "cell_type": "code",
      "source": [],
      "metadata": {
        "id": "1qpiwSjn6KkC"
      },
      "execution_count": null,
      "outputs": []
    },
    {
      "cell_type": "markdown",
      "source": [
        "**DATASET 4**\n",
        "\n",
        "fluid_vs_infomap =0.0\n",
        "\n",
        "leiden_vs_infomap =0.0"
      ],
      "metadata": {
        "id": "XMMQxTP69KPv"
      }
    },
    {
      "cell_type": "code",
      "source": [],
      "metadata": {
        "id": "iEhBtTZL9NFI"
      },
      "execution_count": null,
      "outputs": []
    },
    {
      "cell_type": "code",
      "source": [
        "louvain3 = louvain3.T.reset_index().T.reset_index(drop=True)\n",
        "louvain3"
      ],
      "metadata": {
        "colab": {
          "base_uri": "https://localhost:8080/",
          "height": 424
        },
        "outputId": "62047872-8cd3-495b-f415-b0f7f2a5017e",
        "id": "ARe4Lhla2pUQ"
      },
      "execution_count": null,
      "outputs": [
        {
          "output_type": "execute_result",
          "data": {
            "text/plain": [
              "                               0\n",
              "0       0.000000000000000000e+00\n",
              "1                            0.0\n",
              "2                            0.0\n",
              "3                            0.0\n",
              "4                            0.0\n",
              "...                          ...\n",
              "168109                       0.0\n",
              "168110                       0.0\n",
              "168111                       0.0\n",
              "168112                       0.0\n",
              "168113                       0.0\n",
              "\n",
              "[168114 rows x 1 columns]"
            ],
            "text/html": [
              "\n",
              "  <div id=\"df-22eca51f-53c2-4198-80dd-5aeff569b023\">\n",
              "    <div class=\"colab-df-container\">\n",
              "      <div>\n",
              "<style scoped>\n",
              "    .dataframe tbody tr th:only-of-type {\n",
              "        vertical-align: middle;\n",
              "    }\n",
              "\n",
              "    .dataframe tbody tr th {\n",
              "        vertical-align: top;\n",
              "    }\n",
              "\n",
              "    .dataframe thead th {\n",
              "        text-align: right;\n",
              "    }\n",
              "</style>\n",
              "<table border=\"1\" class=\"dataframe\">\n",
              "  <thead>\n",
              "    <tr style=\"text-align: right;\">\n",
              "      <th></th>\n",
              "      <th>0</th>\n",
              "    </tr>\n",
              "  </thead>\n",
              "  <tbody>\n",
              "    <tr>\n",
              "      <th>0</th>\n",
              "      <td>0.000000000000000000e+00</td>\n",
              "    </tr>\n",
              "    <tr>\n",
              "      <th>1</th>\n",
              "      <td>0.0</td>\n",
              "    </tr>\n",
              "    <tr>\n",
              "      <th>2</th>\n",
              "      <td>0.0</td>\n",
              "    </tr>\n",
              "    <tr>\n",
              "      <th>3</th>\n",
              "      <td>0.0</td>\n",
              "    </tr>\n",
              "    <tr>\n",
              "      <th>4</th>\n",
              "      <td>0.0</td>\n",
              "    </tr>\n",
              "    <tr>\n",
              "      <th>...</th>\n",
              "      <td>...</td>\n",
              "    </tr>\n",
              "    <tr>\n",
              "      <th>168109</th>\n",
              "      <td>0.0</td>\n",
              "    </tr>\n",
              "    <tr>\n",
              "      <th>168110</th>\n",
              "      <td>0.0</td>\n",
              "    </tr>\n",
              "    <tr>\n",
              "      <th>168111</th>\n",
              "      <td>0.0</td>\n",
              "    </tr>\n",
              "    <tr>\n",
              "      <th>168112</th>\n",
              "      <td>0.0</td>\n",
              "    </tr>\n",
              "    <tr>\n",
              "      <th>168113</th>\n",
              "      <td>0.0</td>\n",
              "    </tr>\n",
              "  </tbody>\n",
              "</table>\n",
              "<p>168114 rows × 1 columns</p>\n",
              "</div>\n",
              "      <button class=\"colab-df-convert\" onclick=\"convertToInteractive('df-22eca51f-53c2-4198-80dd-5aeff569b023')\"\n",
              "              title=\"Convert this dataframe to an interactive table.\"\n",
              "              style=\"display:none;\">\n",
              "        \n",
              "  <svg xmlns=\"http://www.w3.org/2000/svg\" height=\"24px\"viewBox=\"0 0 24 24\"\n",
              "       width=\"24px\">\n",
              "    <path d=\"M0 0h24v24H0V0z\" fill=\"none\"/>\n",
              "    <path d=\"M18.56 5.44l.94 2.06.94-2.06 2.06-.94-2.06-.94-.94-2.06-.94 2.06-2.06.94zm-11 1L8.5 8.5l.94-2.06 2.06-.94-2.06-.94L8.5 2.5l-.94 2.06-2.06.94zm10 10l.94 2.06.94-2.06 2.06-.94-2.06-.94-.94-2.06-.94 2.06-2.06.94z\"/><path d=\"M17.41 7.96l-1.37-1.37c-.4-.4-.92-.59-1.43-.59-.52 0-1.04.2-1.43.59L10.3 9.45l-7.72 7.72c-.78.78-.78 2.05 0 2.83L4 21.41c.39.39.9.59 1.41.59.51 0 1.02-.2 1.41-.59l7.78-7.78 2.81-2.81c.8-.78.8-2.07 0-2.86zM5.41 20L4 18.59l7.72-7.72 1.47 1.35L5.41 20z\"/>\n",
              "  </svg>\n",
              "      </button>\n",
              "      \n",
              "  <style>\n",
              "    .colab-df-container {\n",
              "      display:flex;\n",
              "      flex-wrap:wrap;\n",
              "      gap: 12px;\n",
              "    }\n",
              "\n",
              "    .colab-df-convert {\n",
              "      background-color: #E8F0FE;\n",
              "      border: none;\n",
              "      border-radius: 50%;\n",
              "      cursor: pointer;\n",
              "      display: none;\n",
              "      fill: #1967D2;\n",
              "      height: 32px;\n",
              "      padding: 0 0 0 0;\n",
              "      width: 32px;\n",
              "    }\n",
              "\n",
              "    .colab-df-convert:hover {\n",
              "      background-color: #E2EBFA;\n",
              "      box-shadow: 0px 1px 2px rgba(60, 64, 67, 0.3), 0px 1px 3px 1px rgba(60, 64, 67, 0.15);\n",
              "      fill: #174EA6;\n",
              "    }\n",
              "\n",
              "    [theme=dark] .colab-df-convert {\n",
              "      background-color: #3B4455;\n",
              "      fill: #D2E3FC;\n",
              "    }\n",
              "\n",
              "    [theme=dark] .colab-df-convert:hover {\n",
              "      background-color: #434B5C;\n",
              "      box-shadow: 0px 1px 3px 1px rgba(0, 0, 0, 0.15);\n",
              "      filter: drop-shadow(0px 1px 2px rgba(0, 0, 0, 0.3));\n",
              "      fill: #FFFFFF;\n",
              "    }\n",
              "  </style>\n",
              "\n",
              "      <script>\n",
              "        const buttonEl =\n",
              "          document.querySelector('#df-22eca51f-53c2-4198-80dd-5aeff569b023 button.colab-df-convert');\n",
              "        buttonEl.style.display =\n",
              "          google.colab.kernel.accessAllowed ? 'block' : 'none';\n",
              "\n",
              "        async function convertToInteractive(key) {\n",
              "          const element = document.querySelector('#df-22eca51f-53c2-4198-80dd-5aeff569b023');\n",
              "          const dataTable =\n",
              "            await google.colab.kernel.invokeFunction('convertToInteractive',\n",
              "                                                     [key], {});\n",
              "          if (!dataTable) return;\n",
              "\n",
              "          const docLinkHtml = 'Like what you see? Visit the ' +\n",
              "            '<a target=\"_blank\" href=https://colab.research.google.com/notebooks/data_table.ipynb>data table notebook</a>'\n",
              "            + ' to learn more about interactive tables.';\n",
              "          element.innerHTML = '';\n",
              "          dataTable['output_type'] = 'display_data';\n",
              "          await google.colab.output.renderOutput(dataTable, element);\n",
              "          const docLink = document.createElement('div');\n",
              "          docLink.innerHTML = docLinkHtml;\n",
              "          element.appendChild(docLink);\n",
              "        }\n",
              "      </script>\n",
              "    </div>\n",
              "  </div>\n",
              "  "
            ]
          },
          "metadata": {},
          "execution_count": 7
        }
      ]
    },
    {
      "cell_type": "code",
      "source": [
        "louvain3[0][0] = 0"
      ],
      "metadata": {
        "id": "noYTlunJ2pUd"
      },
      "execution_count": null,
      "outputs": []
    },
    {
      "cell_type": "code",
      "source": [
        "louvain3.sum()"
      ],
      "metadata": {
        "colab": {
          "base_uri": "https://localhost:8080/"
        },
        "outputId": "b4a0921e-1ce1-4391-c2ca-8d9ad9efab3d",
        "id": "OAwVpuCG2pUd"
      },
      "execution_count": null,
      "outputs": [
        {
          "output_type": "execute_result",
          "data": {
            "text/plain": [
              "0    100.0\n",
              "dtype: object"
            ]
          },
          "metadata": {},
          "execution_count": 9
        }
      ]
    },
    {
      "cell_type": "code",
      "source": [
        "np.array(louvain3).shape"
      ],
      "metadata": {
        "colab": {
          "base_uri": "https://localhost:8080/"
        },
        "outputId": "f1911291-22f0-46b4-d134-50cb4f8aff3a",
        "id": "SZ1kQx3x2pUd"
      },
      "execution_count": null,
      "outputs": [
        {
          "output_type": "execute_result",
          "data": {
            "text/plain": [
              "(168114, 1)"
            ]
          },
          "metadata": {},
          "execution_count": 10
        }
      ]
    },
    {
      "cell_type": "code",
      "source": [
        "pred_louvain = np.array(louvain3).reshape(168114,)"
      ],
      "metadata": {
        "id": "f5K3R6tM2pUe"
      },
      "execution_count": null,
      "outputs": []
    },
    {
      "cell_type": "code",
      "source": [
        "twitch.drop([0],axis=0,inplace=True)\n",
        "twitch.reset_index(inplace=True,drop=True)"
      ],
      "metadata": {
        "id": "NZrEExx7-Vx1"
      },
      "execution_count": null,
      "outputs": []
    },
    {
      "cell_type": "code",
      "source": [
        "twitch\n"
      ],
      "metadata": {
        "colab": {
          "base_uri": "https://localhost:8080/",
          "height": 424
        },
        "id": "Ycd6KVrK_n8r",
        "outputId": "ca6880db-bf5e-4d19-85e2-512d609f2498"
      },
      "execution_count": null,
      "outputs": [
        {
          "output_type": "execute_result",
          "data": {
            "text/plain": [
              "         Source Destination\n",
              "0         98343      141493\n",
              "1         98343       58736\n",
              "2         98343      140703\n",
              "3         98343      151401\n",
              "4         98343      157118\n",
              "...         ...         ...\n",
              "6797552   97507       29359\n",
              "6797553   71175       12020\n",
              "6797554  151702      128281\n",
              "6797555  118034       38021\n",
              "6797556   27819      153993\n",
              "\n",
              "[6797557 rows x 2 columns]"
            ],
            "text/html": [
              "\n",
              "  <div id=\"df-407ed583-a765-4ff7-8c9e-2af89c28d544\">\n",
              "    <div class=\"colab-df-container\">\n",
              "      <div>\n",
              "<style scoped>\n",
              "    .dataframe tbody tr th:only-of-type {\n",
              "        vertical-align: middle;\n",
              "    }\n",
              "\n",
              "    .dataframe tbody tr th {\n",
              "        vertical-align: top;\n",
              "    }\n",
              "\n",
              "    .dataframe thead th {\n",
              "        text-align: right;\n",
              "    }\n",
              "</style>\n",
              "<table border=\"1\" class=\"dataframe\">\n",
              "  <thead>\n",
              "    <tr style=\"text-align: right;\">\n",
              "      <th></th>\n",
              "      <th>Source</th>\n",
              "      <th>Destination</th>\n",
              "    </tr>\n",
              "  </thead>\n",
              "  <tbody>\n",
              "    <tr>\n",
              "      <th>0</th>\n",
              "      <td>98343</td>\n",
              "      <td>141493</td>\n",
              "    </tr>\n",
              "    <tr>\n",
              "      <th>1</th>\n",
              "      <td>98343</td>\n",
              "      <td>58736</td>\n",
              "    </tr>\n",
              "    <tr>\n",
              "      <th>2</th>\n",
              "      <td>98343</td>\n",
              "      <td>140703</td>\n",
              "    </tr>\n",
              "    <tr>\n",
              "      <th>3</th>\n",
              "      <td>98343</td>\n",
              "      <td>151401</td>\n",
              "    </tr>\n",
              "    <tr>\n",
              "      <th>4</th>\n",
              "      <td>98343</td>\n",
              "      <td>157118</td>\n",
              "    </tr>\n",
              "    <tr>\n",
              "      <th>...</th>\n",
              "      <td>...</td>\n",
              "      <td>...</td>\n",
              "    </tr>\n",
              "    <tr>\n",
              "      <th>6797552</th>\n",
              "      <td>97507</td>\n",
              "      <td>29359</td>\n",
              "    </tr>\n",
              "    <tr>\n",
              "      <th>6797553</th>\n",
              "      <td>71175</td>\n",
              "      <td>12020</td>\n",
              "    </tr>\n",
              "    <tr>\n",
              "      <th>6797554</th>\n",
              "      <td>151702</td>\n",
              "      <td>128281</td>\n",
              "    </tr>\n",
              "    <tr>\n",
              "      <th>6797555</th>\n",
              "      <td>118034</td>\n",
              "      <td>38021</td>\n",
              "    </tr>\n",
              "    <tr>\n",
              "      <th>6797556</th>\n",
              "      <td>27819</td>\n",
              "      <td>153993</td>\n",
              "    </tr>\n",
              "  </tbody>\n",
              "</table>\n",
              "<p>6797557 rows × 2 columns</p>\n",
              "</div>\n",
              "      <button class=\"colab-df-convert\" onclick=\"convertToInteractive('df-407ed583-a765-4ff7-8c9e-2af89c28d544')\"\n",
              "              title=\"Convert this dataframe to an interactive table.\"\n",
              "              style=\"display:none;\">\n",
              "        \n",
              "  <svg xmlns=\"http://www.w3.org/2000/svg\" height=\"24px\"viewBox=\"0 0 24 24\"\n",
              "       width=\"24px\">\n",
              "    <path d=\"M0 0h24v24H0V0z\" fill=\"none\"/>\n",
              "    <path d=\"M18.56 5.44l.94 2.06.94-2.06 2.06-.94-2.06-.94-.94-2.06-.94 2.06-2.06.94zm-11 1L8.5 8.5l.94-2.06 2.06-.94-2.06-.94L8.5 2.5l-.94 2.06-2.06.94zm10 10l.94 2.06.94-2.06 2.06-.94-2.06-.94-.94-2.06-.94 2.06-2.06.94z\"/><path d=\"M17.41 7.96l-1.37-1.37c-.4-.4-.92-.59-1.43-.59-.52 0-1.04.2-1.43.59L10.3 9.45l-7.72 7.72c-.78.78-.78 2.05 0 2.83L4 21.41c.39.39.9.59 1.41.59.51 0 1.02-.2 1.41-.59l7.78-7.78 2.81-2.81c.8-.78.8-2.07 0-2.86zM5.41 20L4 18.59l7.72-7.72 1.47 1.35L5.41 20z\"/>\n",
              "  </svg>\n",
              "      </button>\n",
              "      \n",
              "  <style>\n",
              "    .colab-df-container {\n",
              "      display:flex;\n",
              "      flex-wrap:wrap;\n",
              "      gap: 12px;\n",
              "    }\n",
              "\n",
              "    .colab-df-convert {\n",
              "      background-color: #E8F0FE;\n",
              "      border: none;\n",
              "      border-radius: 50%;\n",
              "      cursor: pointer;\n",
              "      display: none;\n",
              "      fill: #1967D2;\n",
              "      height: 32px;\n",
              "      padding: 0 0 0 0;\n",
              "      width: 32px;\n",
              "    }\n",
              "\n",
              "    .colab-df-convert:hover {\n",
              "      background-color: #E2EBFA;\n",
              "      box-shadow: 0px 1px 2px rgba(60, 64, 67, 0.3), 0px 1px 3px 1px rgba(60, 64, 67, 0.15);\n",
              "      fill: #174EA6;\n",
              "    }\n",
              "\n",
              "    [theme=dark] .colab-df-convert {\n",
              "      background-color: #3B4455;\n",
              "      fill: #D2E3FC;\n",
              "    }\n",
              "\n",
              "    [theme=dark] .colab-df-convert:hover {\n",
              "      background-color: #434B5C;\n",
              "      box-shadow: 0px 1px 3px 1px rgba(0, 0, 0, 0.15);\n",
              "      filter: drop-shadow(0px 1px 2px rgba(0, 0, 0, 0.3));\n",
              "      fill: #FFFFFF;\n",
              "    }\n",
              "  </style>\n",
              "\n",
              "      <script>\n",
              "        const buttonEl =\n",
              "          document.querySelector('#df-407ed583-a765-4ff7-8c9e-2af89c28d544 button.colab-df-convert');\n",
              "        buttonEl.style.display =\n",
              "          google.colab.kernel.accessAllowed ? 'block' : 'none';\n",
              "\n",
              "        async function convertToInteractive(key) {\n",
              "          const element = document.querySelector('#df-407ed583-a765-4ff7-8c9e-2af89c28d544');\n",
              "          const dataTable =\n",
              "            await google.colab.kernel.invokeFunction('convertToInteractive',\n",
              "                                                     [key], {});\n",
              "          if (!dataTable) return;\n",
              "\n",
              "          const docLinkHtml = 'Like what you see? Visit the ' +\n",
              "            '<a target=\"_blank\" href=https://colab.research.google.com/notebooks/data_table.ipynb>data table notebook</a>'\n",
              "            + ' to learn more about interactive tables.';\n",
              "          element.innerHTML = '';\n",
              "          dataTable['output_type'] = 'display_data';\n",
              "          await google.colab.output.renderOutput(dataTable, element);\n",
              "          const docLink = document.createElement('div');\n",
              "          docLink.innerHTML = docLinkHtml;\n",
              "          element.appendChild(docLink);\n",
              "        }\n",
              "      </script>\n",
              "    </div>\n",
              "  </div>\n",
              "  "
            ]
          },
          "metadata": {},
          "execution_count": 13
        }
      ]
    },
    {
      "cell_type": "code",
      "source": [],
      "metadata": {
        "id": "mfSOMQNO_zjp"
      },
      "execution_count": null,
      "outputs": []
    },
    {
      "cell_type": "code",
      "source": [
        "twitch = twitch.astype({'Source':'int'})\n",
        "twitch = twitch.astype({'Destination':'int'})"
      ],
      "metadata": {
        "id": "icydiLFV_zyu"
      },
      "execution_count": null,
      "outputs": []
    },
    {
      "cell_type": "code",
      "source": [
        "twitch_g = nx.from_pandas_edgelist(twitch, source='Source', target='Destination',create_using=nx.DiGraph)\n",
        "twitch_g = twitch_g.to_undirected()\n",
        "\n",
        "#email_in_degrees = sorted((d for n, d in email.in_degree()), reverse=True)\n",
        "#email_out_degrees = sorted((d for n, d in email.out_degree()), reverse=True)"
      ],
      "metadata": {
        "id": "hBGG82mm_zyu"
      },
      "execution_count": null,
      "outputs": []
    },
    {
      "cell_type": "code",
      "source": [
        "#print(nx.average_clustering(wiki_g))"
      ],
      "metadata": {
        "id": "qvOwtyuA_zyu"
      },
      "execution_count": null,
      "outputs": []
    },
    {
      "cell_type": "code",
      "source": [
        "### LEIDEN\n",
        "cada_leiden = cada(twitch_g,algorithm='leiden')\n",
        "n_inj = int(100)\n",
        "pred_leiden = cada_leiden.clf(n_inj)"
      ],
      "metadata": {
        "id": "JL3hExhVweX-"
      },
      "execution_count": null,
      "outputs": []
    },
    {
      "cell_type": "code",
      "source": [
        "### INFOMAP\n",
        "cada_infomap = cada(twitch_g,algorithm='infomap')\n",
        "n_inj = int(100)\n",
        "pred_infomap = cada_infomap.clf(n_inj)"
      ],
      "metadata": {
        "id": "hOGwunVeweX-"
      },
      "execution_count": null,
      "outputs": []
    },
    {
      "cell_type": "code",
      "source": [
        "print('leiden_vs_infomap =' + str(np.sum(pred_leiden * pred_infomap) / n_inj))\n",
        "print('leiden_vs_louvain =' + str(np.sum(pred_leiden * pred_louvain) / n_inj))\n",
        "print('louvain_vs_infomap =' + str(np.sum(pred_louvain * pred_infomap) / n_inj))"
      ],
      "metadata": {
        "colab": {
          "base_uri": "https://localhost:8080/"
        },
        "id": "2ar6PtCY3Nq7",
        "outputId": "a5c11010-0b76-4f3a-b0dc-a00fc82b7143"
      },
      "execution_count": null,
      "outputs": [
        {
          "output_type": "stream",
          "name": "stdout",
          "text": [
            "leiden_vs_infomap =0.0\n",
            "leiden_vs_louvain =0.0\n",
            "louvain_vs_infomap =0.01\n"
          ]
        }
      ]
    },
    {
      "cell_type": "code",
      "source": [
        "print('leiden_vs_infomap =' + str(np.sum(pred_leiden * pred_infomap) / n_inj))"
      ],
      "metadata": {
        "colab": {
          "base_uri": "https://localhost:8080/"
        },
        "outputId": "76923ed6-d003-474a-9832-f75672287b15",
        "id": "d_BWn01YweX-"
      },
      "execution_count": null,
      "outputs": [
        {
          "output_type": "stream",
          "name": "stdout",
          "text": [
            "leiden_vs_infomap =0.0\n"
          ]
        }
      ]
    },
    {
      "cell_type": "code",
      "source": [],
      "metadata": {
        "id": "xnPccer0BpiK"
      },
      "execution_count": null,
      "outputs": []
    },
    {
      "cell_type": "code",
      "source": [
        "temp = nx.from_pandas_edgelist(twitch, source='Source', target='Destination',create_using=nx.DiGraph)\n",
        "largest_cc =nx.subgraph(temp,max(nx.weakly_connected_components(temp),key=len))\n",
        "largest_cc = largest_cc.to_undirected()"
      ],
      "metadata": {
        "id": "bZUUlVfHyRka"
      },
      "execution_count": null,
      "outputs": []
    },
    {
      "cell_type": "code",
      "source": [
        "### INFOMAP\n",
        "cada_infomap = cada(largest_cc,algorithm='infomap')\n",
        "n_inj = int(100)\n",
        "pred_infomap = cada_infomap.clf(n_inj)"
      ],
      "metadata": {
        "id": "CFvho66-yRkg"
      },
      "execution_count": null,
      "outputs": []
    },
    {
      "cell_type": "code",
      "source": [
        "### Fluid Communities require connected Graphs.\n",
        "\n",
        "cada_fluid = cada(largest_cc,algorithm='fluid')\n",
        "pred_fluid= cada_fluid.clf(100)"
      ],
      "metadata": {
        "id": "Ymd7ZuhNyRkg"
      },
      "execution_count": null,
      "outputs": []
    },
    {
      "cell_type": "code",
      "source": [
        "print('fluid_vs_infomap =' + str(np.sum(pred_fluid * pred_infomap) / 100))"
      ],
      "metadata": {
        "colab": {
          "base_uri": "https://localhost:8080/"
        },
        "outputId": "7ccf235d-3bf1-4020-a256-ad3ba94056b6",
        "id": "KPumRZ85yRkh"
      },
      "execution_count": null,
      "outputs": [
        {
          "output_type": "stream",
          "name": "stdout",
          "text": [
            "fluid_vs_infomap =0.0\n"
          ]
        }
      ]
    },
    {
      "cell_type": "code",
      "source": [],
      "metadata": {
        "id": "RTgrscvg0Mp3"
      },
      "execution_count": null,
      "outputs": []
    }
  ]
}