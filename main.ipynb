{
 "cells": [
  {
   "cell_type": "code",
   "execution_count": 1,
   "metadata": {},
   "outputs": [],
   "source": [
    "import networkx as nx\n",
    "import numpy as np\n",
    "import matplotlib.pyplot as plt\n",
    "from artificial_data import get_degree_dist\n",
    "from cada import cada\n",
    "from sklearn.metrics import f1_score\n",
    "\n",
    "n_default = 100000\n",
    "n_ls = 1000*np.array([1,2,5,10,20,50,100,200,500])\n",
    "p_ls = [0.01, 0.02, 0.05, 0.1, 0.2, 0.5]\n",
    "\n",
    "#Try to tune algs if needed"
   ]
  },
  {
   "cell_type": "code",
   "execution_count": 2,
   "metadata": {},
   "outputs": [],
   "source": [
    "#Read data\n",
    "pr_graphs = []\n",
    "for p in p_ls:\n",
    "    path = f\"art_data/artdat-p{p}.txt\"\n",
    "    pr_graphs.append(nx.read_adjlist(path,nodetype=int))\n",
    "\n",
    "n_graphs = []\n",
    "for n in n_ls:\n",
    "    path = f\"art_data/artdat-n{n}.txt\"\n",
    "    n_graphs.append(nx.read_adjlist(path,nodetype=int))\n"
   ]
  },
  {
   "cell_type": "code",
   "execution_count": 3,
   "metadata": {},
   "outputs": [
    {
     "data": {
      "image/png": "[encoded data removed]",
      "text/plain": [
       "<Figure size 432x288 with 1 Axes>"
      ]
     },
     "metadata": {
      "needs_background": "light"
     },
     "output_type": "display_data"
    }
   ],
   "source": [
    "#Over look of degree_distributions\n",
    "val,cnt = get_degree_dist(pr_graphs[2])\n",
    "#print(val)\n",
    "#print(cnt)\n",
    "plt.bar(val,cnt)\n",
    "plt.show()"
   ]
  },
  {
   "cell_type": "markdown",
   "metadata": {},
   "source": [
    "Calculate f1-score (probability runs)"
   ]
  },
  {
   "cell_type": "code",
   "execution_count": 11,
   "metadata": {},
   "outputs": [],
   "source": [
    "#init parameters\n",
    "n_inj = int(n_default/100)\n",
    "n_trials = 5\n",
    "ground_truth = np.zeros(len(pr_graphs[0]))\n",
    "ground_truth[n_default:] = 1"
   ]
  },
  {
   "cell_type": "code",
   "execution_count": 12,
   "metadata": {},
   "outputs": [],
   "source": [
    "#Louvain\n",
    "#(2m20s for one graph iter => 15min-ich)\n",
    "#pr_graphs = pr_graphs[:2]\n",
    "pr_f1_lv = np.zeros(shape=(len(pr_graphs),n_trials))\n",
    "for ind,pr_g in enumerate(pr_graphs): \n",
    "    for trial in range(n_trials):\n",
    "        #Train cada\n",
    "        cada_lv = cada(pr_g)\n",
    "        #Predict anomalies\n",
    "        pred = cada_lv.clf(n_inj)\n",
    "        pr_f1_lv[ind,trial] = f1_score(ground_truth,pred)"
   ]
  },
  {
   "cell_type": "code",
   "execution_count": 3,
   "metadata": {},
   "outputs": [],
   "source": [
    "#Infomap\n",
    "pr_f1_info = []\n",
    "for ind,pr_g in enumerate(pr_graphs):\n",
    "    cada_info = cada(pr_g, algorithm='infomap')\n",
    "    pred = cada_info.clf(n_inj)\n",
    "    pr_f1_info.append(f1_score(ground_truth,pred))"
   ]
  },
  {
   "cell_type": "code",
   "execution_count": null,
   "metadata": {},
   "outputs": [],
   "source": [
    "#Fluid?\n",
    "#Leiden?\n",
    "#Another one?"
   ]
  },
  {
   "cell_type": "code",
   "execution_count": 15,
   "metadata": {},
   "outputs": [
    {
     "data": {
      "image/png": "[encoded data removed]",
      "text/plain": [
       "<Figure size 432x288 with 1 Axes>"
      ]
     },
     "metadata": {
      "needs_background": "light"
     },
     "output_type": "display_data"
    }
   ],
   "source": [
    "plt.figure()\n",
    "#plt.plot(p_ls,pr_f1_lv,'-s',c='tab:blue')\n",
    "#plt.plot(p_ls,pr_f1_info,'-s',c='tab:orange')\n",
    "plt.errorbar(p_ls,np.mean(pr_f1_lv,axis=1),fmt='-s',c='tab:blue',yerr=np.std(pr_f1_lv,axis=1))\n",
    "plt.xscale('log')\n",
    "plt.xlabel(r'Probability $p$')\n",
    "plt.ylabel(r'$F_1$-score')\n",
    "plt.legend(['Louvain','Infomap'])\n",
    "#plt.savefig('prob.png',bbox_inches='tight')\n",
    "plt.show()\n"
   ]
  }
 ],
 "metadata": {
  "kernelspec": {
   "display_name": "Python 3.9.4 64-bit",
   "language": "python",
   "name": "python3"
  },
  "language_info": {
   "codemirror_mode": {
    "name": "ipython",
    "version": 3
   },
   "file_extension": ".py",
   "mimetype": "text/x-python",
   "name": "python",
   "nbconvert_exporter": "python",
   "pygments_lexer": "ipython3",
   "version": "3.9.4"
  },
  "orig_nbformat": 4,
  "vscode": {
   "interpreter": {
    "hash": "0ffeca214da6ffd5ce9ef0cc06834ea6291f9baaa76ddb7c5a6e88a8f8045ee6"
   }
  }
 },
 "nbformat": 4,
 "nbformat_minor": 2
}
