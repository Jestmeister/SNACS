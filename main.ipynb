{
 "cells": [
  {
   "cell_type": "code",
   "execution_count": 1,
   "metadata": {},
   "outputs": [],
   "source": [
    "import networkx as nx\n",
    "import numpy as np\n",
    "import matplotlib.pyplot as plt\n",
    "from artificial_data import get_degree_dist\n",
    "from cada import cada\n",
    "from sklearn.metrics import f1_score\n",
    "\n",
    "n_default = 100000\n",
    "n_ls = 1000*np.array([1,2,5,10,20,50,100,200,500])\n",
    "p_ls = [0.01, 0.02, 0.05, 0.1, 0.2, 0.5]\n",
    "\n",
    "#Try to tune algs if needed"
   ]
  },
  {
   "cell_type": "code",
   "execution_count": 2,
   "metadata": {},
   "outputs": [],
   "source": [
    "#Read data\n",
    "pr_graphs = []\n",
    "for p in p_ls:\n",
    "    path = f\"art_data/artdat-p{p}.txt\"\n",
    "    pr_graphs.append(nx.read_adjlist(path,nodetype=int))\n",
    "\n",
    "n_graphs = []\n",
    "for n in n_ls:\n",
    "    path = f\"art_data/artdat-n{n}.txt\"\n",
    "    n_graphs.append(nx.read_adjlist(path,nodetype=int))\n"
   ]
  },
  {
   "cell_type": "code",
   "execution_count": 3,
   "metadata": {},
   "outputs": [
    {
     "data": {
      "image/png": "[encoded data removed]",
      "text/plain": [
       "<Figure size 432x288 with 1 Axes>"
      ]
     },
     "metadata": {
      "needs_background": "light"
     },
     "output_type": "display_data"
    }
   ],
   "source": [
    "#Over look of degree_distributions\n",
    "val,cnt = get_degree_dist(pr_graphs[2])\n",
    "#print(val)\n",
    "#print(cnt)\n",
    "plt.bar(val,cnt)\n",
    "plt.show()"
   ]
  },
  {
   "cell_type": "markdown",
   "metadata": {},
   "source": [
    "Calculate f1-score"
   ]
  },
  {
   "cell_type": "code",
   "execution_count": 4,
   "metadata": {},
   "outputs": [
    {
     "ename": "IndexError",
     "evalue": "only integers, slices (`:`), ellipsis (`...`), numpy.newaxis (`None`) and integer or boolean arrays are valid indices",
     "output_type": "error",
     "traceback": [
      "\u001b[1;31m---------------------------------------------------------------------------\u001b[0m",
      "\u001b[1;31mIndexError\u001b[0m                                Traceback (most recent call last)",
      "\u001b[1;32m~\\AppData\\Local\\Temp\\ipykernel_31628\\4103784045.py\u001b[0m in \u001b[0;36m<module>\u001b[1;34m\u001b[0m\n\u001b[0;32m      9\u001b[0m     \u001b[1;31m#Train cada\u001b[0m\u001b[1;33m\u001b[0m\u001b[1;33m\u001b[0m\u001b[1;33m\u001b[0m\u001b[0m\n\u001b[0;32m     10\u001b[0m     \u001b[0mcada_lv\u001b[0m \u001b[1;33m=\u001b[0m \u001b[0mcada\u001b[0m\u001b[1;33m(\u001b[0m\u001b[0mpr_g\u001b[0m\u001b[1;33m)\u001b[0m\u001b[1;33m\u001b[0m\u001b[1;33m\u001b[0m\u001b[0m\n\u001b[1;32m---> 11\u001b[1;33m     \u001b[0mpred\u001b[0m \u001b[1;33m=\u001b[0m \u001b[0mcada_lv\u001b[0m\u001b[1;33m.\u001b[0m\u001b[0mclf\u001b[0m\u001b[1;33m(\u001b[0m\u001b[0mn_inj\u001b[0m\u001b[1;33m)\u001b[0m\u001b[1;33m\u001b[0m\u001b[1;33m\u001b[0m\u001b[0m\n\u001b[0m\u001b[0;32m     12\u001b[0m     \u001b[0mpr_f1\u001b[0m\u001b[1;33m.\u001b[0m\u001b[0mappend\u001b[0m\u001b[1;33m(\u001b[0m\u001b[0mf1_score\u001b[0m\u001b[1;33m(\u001b[0m\u001b[0mground_truth\u001b[0m\u001b[1;33m,\u001b[0m\u001b[0mpred\u001b[0m\u001b[1;33m)\u001b[0m\u001b[1;33m)\u001b[0m\u001b[1;33m\u001b[0m\u001b[1;33m\u001b[0m\u001b[0m\n\u001b[0;32m     13\u001b[0m     \u001b[0mprint\u001b[0m\u001b[1;33m(\u001b[0m\u001b[0mpr_f1\u001b[0m\u001b[1;33m[\u001b[0m\u001b[0mind\u001b[0m\u001b[1;33m]\u001b[0m\u001b[1;33m)\u001b[0m\u001b[1;33m\u001b[0m\u001b[1;33m\u001b[0m\u001b[0m\n",
      "\u001b[1;32mc:\\Users\\Jesper\\OneDrive\\Dokument\\GitHub\\SNACS\\cada.py\u001b[0m in \u001b[0;36mclf\u001b[1;34m(self, n_injections)\u001b[0m\n\u001b[0;32m     57\u001b[0m                 \u001b[0mworst_nodes\u001b[0m \u001b[1;33m=\u001b[0m \u001b[0mself\u001b[0m\u001b[1;33m.\u001b[0m\u001b[0manomaly_scores\u001b[0m\u001b[1;33m[\u001b[0m\u001b[1;33m:\u001b[0m\u001b[0mn_injections\u001b[0m\u001b[1;33m]\u001b[0m\u001b[1;33m\u001b[0m\u001b[1;33m\u001b[0m\u001b[0m\n\u001b[0;32m     58\u001b[0m                 \u001b[1;32mfor\u001b[0m \u001b[0mnode\u001b[0m \u001b[1;32min\u001b[0m \u001b[0mworst_nodes\u001b[0m\u001b[1;33m:\u001b[0m\u001b[1;33m\u001b[0m\u001b[1;33m\u001b[0m\u001b[0m\n\u001b[1;32m---> 59\u001b[1;33m                         \u001b[0mpred\u001b[0m\u001b[1;33m[\u001b[0m\u001b[0mnode\u001b[0m\u001b[1;33m]\u001b[0m \u001b[1;33m=\u001b[0m \u001b[1;36m1\u001b[0m\u001b[1;33m\u001b[0m\u001b[1;33m\u001b[0m\u001b[0m\n\u001b[0m\u001b[0;32m     60\u001b[0m \u001b[1;33m\u001b[0m\u001b[0m\n\u001b[0;32m     61\u001b[0m                 \u001b[1;32mreturn\u001b[0m \u001b[0mpred\u001b[0m\u001b[1;33m\u001b[0m\u001b[1;33m\u001b[0m\u001b[0m\n",
      "\u001b[1;31mIndexError\u001b[0m: only integers, slices (`:`), ellipsis (`...`), numpy.newaxis (`None`) and integer or boolean arrays are valid indices"
     ]
    }
   ],
   "source": [
    "pr_f1 = []\n",
    "n_inj = int(n_default/100)\n",
    "ground_truth = np.zeros(len(pr_graphs[0]))\n",
    "ground_truth[n_default:] = 1\n",
    "for ind,pr_g in enumerate(pr_graphs):\n",
    "    #reg_nodes = pr_g[:n_default]\n",
    "    #inj_nodes = pr_g[n_default:]\n",
    "    \n",
    "    #Train cada\n",
    "    cada_lv = cada(pr_g)\n",
    "    pred = cada_lv.clf(n_inj)\n",
    "    pr_f1.append(f1_score(ground_truth,pred))\n",
    "    print(pr_f1[ind])\n",
    "    #Evaluate cada\n",
    "\n",
    "    \n"
   ]
  },
  {
   "cell_type": "code",
   "execution_count": 4,
   "metadata": {},
   "outputs": [
    {
     "name": "stdout",
     "output_type": "stream",
     "text": [
      "1.0\n"
     ]
    }
   ],
   "source": [
    "#Test things...\n",
    "#apa = cada(n_graphs[0])\n",
    "#bapa = [int(a[0]) for a in apa.anomaly_scores]\n",
    "#print(bapa)\n",
    "#print(pr_graphs[0].nodes)\n",
    "n_inj = int(n_default/100)\n",
    "ground_truth = np.zeros(len(pr_graphs[0]),dtype=int)\n",
    "ground_truth[n_default:] = 1\n",
    "#print(sum(ground_truth))\n",
    "#va fan e felet...\n",
    "cada_lv = cada(pr_graphs[0])\n",
    "pred = cada_lv.clf(n_inj)\n",
    "print(f1_score(ground_truth,pred))"
   ]
  }
 ],
 "metadata": {
  "kernelspec": {
   "display_name": "Python 3.9.4 64-bit",
   "language": "python",
   "name": "python3"
  },
  "language_info": {
   "codemirror_mode": {
    "name": "ipython",
    "version": 3
   },
   "file_extension": ".py",
   "mimetype": "text/x-python",
   "name": "python",
   "nbconvert_exporter": "python",
   "pygments_lexer": "ipython3",
   "version": "3.9.4"
  },
  "orig_nbformat": 4,
  "vscode": {
   "interpreter": {
    "hash": "0ffeca214da6ffd5ce9ef0cc06834ea6291f9baaa76ddb7c5a6e88a8f8045ee6"
   }
  }
 },
 "nbformat": 4,
 "nbformat_minor": 2
}
